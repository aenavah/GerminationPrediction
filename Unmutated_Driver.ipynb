{
 "cells": [
  {
   "cell_type": "code",
   "execution_count": 4,
   "metadata": {},
   "outputs": [],
   "source": [
    "#libraries\n",
    "import numpy as np \n",
    "import matplotlib.pyplot as plt\n",
    "import seaborn as sns\n",
    "import pandas as pd\n"
   ]
  },
  {
   "cell_type": "code",
   "execution_count": 5,
   "metadata": {},
   "outputs": [],
   "source": [
    "# import import_ipynb\n",
    "# import Preliminary_LSTM as LSTM"
   ]
  },
  {
   "cell_type": "code",
   "execution_count": 6,
   "metadata": {},
   "outputs": [],
   "source": [
    "#Parameters--\n",
    "model_file = \"/Users/alexandranava/Desktop/Spores/GerminationPrediction/unmutated_initial_0_intensityscaled.h5\"\n",
    "#model_file = \"/Users/alexandranava/Desktop/Spores/GerminationPrediction/unmutated_initial_0_arperemint.h5\"\n",
    "#model_file = None\n",
    "df_test = pd.read_csv(\"/Users/alexandranava/Desktop/Spores/Data/M4581_s1/Analysis/V3/M4581_s1_Model_Data_V2.csv\")\n",
    "df_train = pd.read_csv(\"/Users/alexandranava/Desktop/Spores/Data/M4576_s2/Fiji_Processing/PostProcessing/M4576_s2_Model_Data_V2.csv\")\n",
    "input_cols = ['INTENSITY','AREA','GERMINANT_EXPOSURE','ELLIPSE_MINOR', \"PERIMETER\", 'GERMINATION']\n",
    "experiment_type = \"unmutated\"\n",
    "lookback = 3"
   ]
  },
  {
   "cell_type": "code",
   "execution_count": 7,
   "metadata": {},
   "outputs": [
    {
     "name": "stdout",
     "output_type": "stream",
     "text": [
      "importing Jupyter notebook from Preliminary_LSTM.ipynb\n"
     ]
    },
    {
     "name": "stderr",
     "output_type": "stream",
     "text": [
      "/Users/alexandranava/Library/Python/3.9/lib/python/site-packages/urllib3/__init__.py:34: NotOpenSSLWarning: urllib3 v2 only supports OpenSSL 1.1.1+, currently the 'ssl' module is compiled with 'LibreSSL 2.8.3'. See: https://github.com/urllib3/urllib3/issues/3020\n",
      "  warnings.warn(\n"
     ]
    },
    {
     "ename": "NameError",
     "evalue": "name 'experiment_type' is not defined",
     "output_type": "error",
     "traceback": [
      "\u001b[0;31m---------------------------------------------------------------------------\u001b[0m",
      "\u001b[0;31mNameError\u001b[0m                                 Traceback (most recent call last)",
      "Cell \u001b[0;32mIn[7], line 2\u001b[0m\n\u001b[1;32m      1\u001b[0m \u001b[38;5;28;01mimport\u001b[39;00m \u001b[38;5;21;01mimport_ipynb\u001b[39;00m\n\u001b[0;32m----> 2\u001b[0m \u001b[38;5;28;01mimport\u001b[39;00m \u001b[38;5;21;01mPreliminary_LSTM\u001b[39;00m \u001b[38;5;28;01mas\u001b[39;00m \u001b[38;5;21;01mLSTM\u001b[39;00m\n",
      "File \u001b[0;32m<frozen importlib._bootstrap>:1007\u001b[0m, in \u001b[0;36m_find_and_load\u001b[0;34m(name, import_)\u001b[0m\n",
      "File \u001b[0;32m<frozen importlib._bootstrap>:986\u001b[0m, in \u001b[0;36m_find_and_load_unlocked\u001b[0;34m(name, import_)\u001b[0m\n",
      "File \u001b[0;32m<frozen importlib._bootstrap>:664\u001b[0m, in \u001b[0;36m_load_unlocked\u001b[0;34m(spec)\u001b[0m\n",
      "File \u001b[0;32m<frozen importlib._bootstrap>:627\u001b[0m, in \u001b[0;36m_load_backward_compatible\u001b[0;34m(spec)\u001b[0m\n",
      "File \u001b[0;32m~/Library/Python/3.9/lib/python/site-packages/import_ipynb.py:61\u001b[0m, in \u001b[0;36mNotebookLoader.load_module\u001b[0;34m(self, fullname)\u001b[0m\n\u001b[1;32m     59\u001b[0m         code \u001b[38;5;241m=\u001b[39m \u001b[38;5;28mself\u001b[39m\u001b[38;5;241m.\u001b[39mshell\u001b[38;5;241m.\u001b[39minput_transformer_manager\u001b[38;5;241m.\u001b[39mtransform_cell(cell\u001b[38;5;241m.\u001b[39msource)\n\u001b[1;32m     60\u001b[0m         \u001b[38;5;66;03m# run the code in themodule\u001b[39;00m\n\u001b[0;32m---> 61\u001b[0m         \u001b[43mexec\u001b[49m\u001b[43m(\u001b[49m\u001b[43mcode\u001b[49m\u001b[43m,\u001b[49m\u001b[43m \u001b[49m\u001b[43mmod\u001b[49m\u001b[38;5;241;43m.\u001b[39;49m\u001b[38;5;18;43m__dict__\u001b[39;49m\u001b[43m)\u001b[49m\n\u001b[1;32m     62\u001b[0m \u001b[38;5;28;01mfinally\u001b[39;00m:\n\u001b[1;32m     63\u001b[0m     \u001b[38;5;28mself\u001b[39m\u001b[38;5;241m.\u001b[39mshell\u001b[38;5;241m.\u001b[39muser_ns \u001b[38;5;241m=\u001b[39m save_user_ns\n",
      "File \u001b[0;32m<string>:12\u001b[0m\n",
      "\u001b[0;31mNameError\u001b[0m: name 'experiment_type' is not defined"
     ]
    }
   ],
   "source": [
    "import import_ipynb\n",
    "import Preliminary_LSTM as LSTM"
   ]
  },
  {
   "cell_type": "markdown",
   "metadata": {},
   "source": [
    "Pick One: "
   ]
  },
  {
   "cell_type": "code",
   "execution_count": null,
   "metadata": {},
   "outputs": [],
   "source": [
    "#LSTM.Main(experiment_type, lookback, input_cols, df_train, df_test, model_file)"
   ]
  },
  {
   "cell_type": "code",
   "execution_count": null,
   "metadata": {},
   "outputs": [],
   "source": [
    "# #Local Sensitivity Analysis\n",
    "\n",
    "# analysis_method = \"local_sensitivity\"\n",
    "\n",
    "# feature_sets = [[\"ELLIPSE_MINOR\", \"INTENSITY\"]]\n",
    "# for i in range(1):\n",
    "#   for features in feature_sets:\n",
    "#     #for scale_factor in [0.1, 0.5, 1.0]:\n",
    "#     for scale_factor in [0.1, 0.5, 1.0]:\n",
    "#       parameters = [features, scale_factor]\n",
    "#       LSTM.Main(experiment_type, lookback, input_cols, df_train, df_test, model_file, analysis_method, parameters)"
   ]
  },
  {
   "cell_type": "code",
   "execution_count": null,
   "metadata": {},
   "outputs": [],
   "source": [
    "# Temporal Sensitivity Analysis\n",
    "ranges = [[0, 3], [0, 10],[-10, 0], [-3, 0]]\n",
    "temporal_std_scalers = [1]\n",
    "temporal_fts_sets = [[\"PERIMETER\"], [\"AREA\"], [\"ELLIPSE_MINOR\"], [\"INTENSITY\"]]\n",
    "analysis_method = \"temporal_sensitivity\"\n",
    "\n",
    "for i in range(3):\n",
    "  for trange in ranges:\n",
    "    for scaler in temporal_std_scalers:\n",
    "      for temporal_fts in temporal_fts_sets:\n",
    "        parameters = [temporal_fts, trange, scaler]\n",
    "        LSTM.Main(experiment_type, lookback, input_cols, df_train, df_test, model_file, analysis_method, parameters)"
   ]
  }
 ],
 "metadata": {
  "kernelspec": {
   "display_name": "Python 3",
   "language": "python",
   "name": "python3"
  },
  "language_info": {
   "codemirror_mode": {
    "name": "ipython",
    "version": 3
   },
   "file_extension": ".py",
   "mimetype": "text/x-python",
   "name": "python",
   "nbconvert_exporter": "python",
   "pygments_lexer": "ipython3",
   "version": "3.9.6"
  }
 },
 "nbformat": 4,
 "nbformat_minor": 2
}
