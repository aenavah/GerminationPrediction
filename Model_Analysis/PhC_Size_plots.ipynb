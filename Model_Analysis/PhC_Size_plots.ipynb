csv = "/Users/alexandranava/Desktop/Spores/M4581_s1/PhC Analysis V3/V3.1/PhCTrackTable_Spots.csv"
df = pd.read_csv(csv)