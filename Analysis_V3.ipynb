{
 "cells": [
  {
   "cell_type": "code",
   "execution_count": 304,
   "metadata": {},
   "outputs": [],
   "source": [
    "#Libraries\n",
    "%matplotlib inline\n",
    "import numpy as np\n",
    "import matplotlib.pyplot as plt\n",
    "import pandas as pd\n",
    "from collections import Counter\n",
    "import ast \n",
    "import scipy.stats as stats\n",
    "import math\n",
    "import seaborn as sns\n",
    "from scipy.optimize import curve_fit\n",
    "from ipywidgets import interact\n",
    "from scipy.stats import pearsonr\n",
    "\n",
    "from mpl_toolkits.axes_grid1.inset_locator import inset_axes\n",
    "import statsmodels.api as sm\n",
    "from sympy import symbols, integrate, lambdify, diff\n",
    "import scipy.integrate as spi\n",
    "from sklearn.preprocessing import MinMaxScaler\n",
    "from scipy.stats import f_oneway, kruskal\n",
    "from statsmodels.formula.api import ols\n",
    "from statsmodels.stats.multicomp import pairwise_tukeyhsd\n",
    "import statsmodels.api as sm\n",
    "from matplotlib.lines import Line2D\n",
    "from matplotlib.ticker import FuncFormatter\n",
    "from mpl_toolkits.axes_grid1 import make_axes_locatable\n",
    "from sklearn.linear_model import LinearRegression\n",
    "from sklearn.preprocessing import StandardScaler\n",
    "\n",
    "from sklearn.cluster import KMeans\n",
    "from sklearn.metrics import silhouette_score\n",
    "from sklearn.mixture import GaussianMixture\n",
    "\n",
    "\n",
    "from sklearn.preprocessing import PolynomialFeatures\n",
    "from sklearn.cluster import DBSCAN\n"
   ]
  },
  {
   "cell_type": "markdown",
   "metadata": {},
   "source": [
    "### Define Dataset to conduct analysis on: "
   ]
  },
  {
   "cell_type": "code",
   "execution_count": 305,
   "metadata": {},
   "outputs": [],
   "source": [
    "time_between_frames = 5\n",
    "initial_exposure = 60\n",
    "time_between_exposure = 120\n",
    "num_frames = 289\n",
    "\n",
    "framerange = [(0, 25), (25, 50), (50, 75), (75, 100), (100, 300)]\n",
    "sample_germination_frames = [14, 38, 62, 86]\n",
    "columns_to_scale = ['INTENSITY', 'AREA', 'GERMINANT EXPOSURE', 'GERMINATION',\n",
    "                    'ELLIPSE MINOR', 'ELLIPSE MAJOR', 'PERIMETER', 'CIRCULARITY', \"ELLIPSE ASPECT RATIO\"]\n"
   ]
  },
  {
   "cell_type": "code",
   "execution_count": 306,
   "metadata": {},
   "outputs": [],
   "source": [
    "experiment = \"combined\"\n",
    "#experiment = \"M4581_s1\"\n",
    "#experiment = \"M4567_s2\""
   ]
  },
  {
   "cell_type": "markdown",
   "metadata": {},
   "source": [
    "---\n",
    "# Analysis "
   ]
  },
  {
   "cell_type": "markdown",
   "metadata": {},
   "source": [
    "### Initialization: includes calculating exposure, bin width, and normalization functions"
   ]
  },
  {
   "cell_type": "code",
   "execution_count": 307,
   "metadata": {},
   "outputs": [
    {
     "name": "stdout",
     "output_type": "stream",
     "text": [
      "first germinant exposure: 11.0\n",
      "time between germinant exposures: 24.0\n",
      "Germinant exposures: [11.0, 35.0, 59.0, 83.0, 107.0, 131.0, 155.0, 179.0, 203.0, 227.0, 251.0, 275.0]\n"
     ]
    }
   ],
   "source": [
    "def calculate_exposure(num_frames, initial_exposure, time_between_exposure, time_between_frames) -> list[int]:\n",
    "\n",
    "  frames_between_exposures = time_between_exposure/time_between_frames\n",
    "  first_frame_exposure = initial_exposure/time_between_frames - 1\n",
    "\n",
    "  print(f\"first germinant exposure: {first_frame_exposure}\")\n",
    "  print(f\"time between germinant exposures: {frames_between_exposures}\")\n",
    "\n",
    "  exposure_frames = [first_frame_exposure]\n",
    "\n",
    "  while exposure_frames[-1] + frames_between_exposures < num_frames:\n",
    "    exposure_frames.append(exposure_frames[-1] + frames_between_exposures)\n",
    "\n",
    "  return first_frame_exposure, frames_between_exposures, exposure_frames\n",
    "\n",
    "# function call \n",
    "first_frame_exposure, frames_between_exposures, germinant_exposures = calculate_exposure(num_frames, initial_exposure, time_between_exposure, time_between_frames)\n",
    "print(f\"Germinant exposures: {germinant_exposures}\")"
   ]
  },
  {
   "cell_type": "markdown",
   "metadata": {},
   "source": [
    "Bin Width using (1) Sturges Method (use with small datasets) (2) Scott's Rule normally distributed data (3) Freedman-Diaconis Rule - robust to outliers"
   ]
  },
  {
   "cell_type": "code",
   "execution_count": 308,
   "metadata": {},
   "outputs": [],
   "source": [
    "def get_bin_width(data, method):  \n",
    "  if method == \"Sturges\":\n",
    "    k = int(np.ceil(np.log2(len(data)) + 1))\n",
    "    bin_width = (np.max(data) - np.min(data)) / k\n",
    "\n",
    "  if method == \"Scotts\":\n",
    "    bin_width = 3.5 * np.std(data) / (len(data) ** (1/3))\n",
    "\n",
    "  if method == \"Freedman\":\n",
    "    q25, q75 = np.percentile(data, [25, 75])\n",
    "    iqr = q75 - q25\n",
    "    bin_width = 2 * iqr / (len(data) ** (1/3))\n",
    "\n",
    "  bins = int(np.ceil((data.max() - data.min()) / bin_width))\n",
    "  return bins"
   ]
  },
  {
   "cell_type": "markdown",
   "metadata": {},
   "source": [
    "Normalize DataSet: "
   ]
  },
  {
   "cell_type": "code",
   "execution_count": 309,
   "metadata": {},
   "outputs": [],
   "source": [
    "def scale_csv_data(file_path: str, columns_to_scale: list[str]):\n",
    "    data = pd.read_csv(file_path)\n",
    "    scaler = MinMaxScaler()\n",
    "\n",
    "    def scale_column(column):\n",
    "        lists = column.apply(ast.literal_eval)\n",
    "        flattened = np.concatenate(lists.values)\n",
    "        scaled_flattened = scaler.fit_transform(flattened.reshape(-1, 1)).flatten()\n",
    "        scaled_lists = []\n",
    "        start = 0\n",
    "        for lst in lists:\n",
    "            end = start + len(lst)\n",
    "            scaled_lists.append(scaled_flattened[start:end].tolist())\n",
    "            start = end\n",
    "        return [str(lst) for lst in scaled_lists]\n",
    "    \n",
    "    for column in columns_to_scale:\n",
    "        data[column] = scale_column(data[column])\n",
    "\n",
    "    return data"
   ]
  },
  {
   "cell_type": "markdown",
   "metadata": {},
   "source": [
    "Datasets:"
   ]
  },
  {
   "cell_type": "code",
   "execution_count": 310,
   "metadata": {},
   "outputs": [],
   "source": [
    "#M4581_s1\n",
    "csv_path = \"/Users/alexandranava/Desktop/Spores/M4581_s1/Analysis/V3/M4581_s1_Model_Data.csv\"\n",
    "plots_folder_M4581s1 = \"/Users/alexandranava/Desktop/Spores/M4581_s1/Analysis/V3/Plots/\"\n",
    "M4581_s1_df  = scale_csv_data(csv_path, columns_to_scale)\n",
    "\n",
    "#M4576_s2\n",
    "csv_path2 = \"/Users/alexandranava/Desktop/Spores/M4576_s2/M4576_s2_Model_Data.csv\"\n",
    "plots_folder_M4576s2 = \"/Users/alexandranava/Desktop/Spores/M4576_s2/Analysis/Plots/\"\n",
    "M4576_s2_df  = scale_csv_data(csv_path2, columns_to_scale)\n",
    "\n",
    "#combined datasets\n",
    "plots_folder_combined = \"/Users/alexandranava/Desktop/Spores/M4581_s1andM4576_s2/plots/\"\n",
    "M4581_s1_scaleddf  = scale_csv_data(csv_path, columns_to_scale)\n",
    "M4576_s2_scaleddf = scale_csv_data(csv_path2, columns_to_scale)\n",
    "df_stacked = pd.concat([M4581_s1_scaleddf, M4576_s2_scaleddf], axis=0)\n",
    "df_stacked.reset_index(drop=True, inplace=True)"
   ]
  },
  {
   "cell_type": "markdown",
   "metadata": {},
   "source": [
    "Set dataframe to conduct analysis on:"
   ]
  },
  {
   "cell_type": "code",
   "execution_count": 311,
   "metadata": {},
   "outputs": [],
   "source": [
    "if experiment == \"combined\": \n",
    "  df = df_stacked\n",
    "  combined_dataset = 1\n",
    "  plots_folder = plots_folder_combined\n",
    "if experiment == \"M4567_s2\":\n",
    "  df = M4576_s2_scaleddf\n",
    "  combined_dataset = 0\n",
    "  plots_folder = plots_folder_M4576s2\n",
    "if experiment == \"M4581_s1\":\n",
    "  df = M4581_s1_scaleddf\n",
    "  combined_dataset = 0\n",
    "  plots_folder = plots_folder_M4581s1"
   ]
  },
  {
   "cell_type": "markdown",
   "metadata": {},
   "source": [
    "## Germination Measurement"
   ]
  },
  {
   "cell_type": "markdown",
   "metadata": {},
   "source": [
    "Adds Germination Frame to df in \"GERMINATION_INDEX\" column"
   ]
  },
  {
   "cell_type": "code",
   "execution_count": 312,
   "metadata": {},
   "outputs": [],
   "source": [
    "def add_germination_index(df):\n",
    "    GERMINATION: list[list] = df[\"GERMINATION\"].apply(ast.literal_eval)\n",
    "    germination_frames_list = GERMINATION.apply(lambda x: x.index(1))\n",
    "\n",
    "    df[\"GERMINATION_INDEX\"] = germination_frames_list\n",
    "\n",
    "add_germination_index(df)"
   ]
  },
  {
   "cell_type": "markdown",
   "metadata": {},
   "source": [
    "Adds germinant exposures before germination to df in \"GERMINANT_EXPOSURES\" column"
   ]
  },
  {
   "cell_type": "code",
   "execution_count": 313,
   "metadata": {},
   "outputs": [],
   "source": [
    "def add_germinant_exposures(df):\n",
    "  EXPOSURE_COLUMN = [] # {exposure number: spores germinated with that exposure}\n",
    "\n",
    "  for frame_number in df[\"GERMINATION_INDEX\"]:\n",
    "    exposure_count = math.floor((frame_number - first_frame_exposure)/frames_between_exposures) + 1\n",
    "    EXPOSURE_COLUMN.append(exposure_count)\n",
    "  df[\"GERMINANT_EXPOSURES\"] = EXPOSURE_COLUMN\n",
    "\n",
    "add_germinant_exposures(df)"
   ]
  },
  {
   "cell_type": "markdown",
   "metadata": {},
   "source": [
    "Creates a lineplot of population dormancy, as well as a histogram of germination events"
   ]
  },
  {
   "cell_type": "code",
   "execution_count": 314,
   "metadata": {},
   "outputs": [
    {
     "name": "stdout",
     "output_type": "stream",
     "text": [
      "optimal bin width: 9\n",
      "Total Spores: 130\n",
      "\n",
      " Statistics by Events:\n",
      "Frames that events occur: 15\n",
      "Frames: [13 & 14 & 16 & 37 & 38 & 39 & 40 & 57 & 61 & 62 & 63 & 64 & 85 & 86 & 182]\n",
      "Germination Events: [5 & 5 & 1 & 24 & 42 & 2 & 1 & 3 & 15 & 21 & 2 & 1 & 1 & 6 & 1]\n",
      "Total Percentage: [96 & 92 & 92 & 73 & 41 & 39 & 38 & 36 & 25 & 8 & 7 & 6 & 5 & 1 & 0]\n",
      "Percentage at frame: [4 & 1 & 18 & 32 & 2 & 1 & 2 & 12 & 16 & 2 & 1 & 1 & 5 & 1]\n"
     ]
    },
    {
     "data": {
      "text/plain": [
       "<Figure size 640x480 with 0 Axes>"
      ]
     },
     "metadata": {},
     "output_type": "display_data"
    }
   ],
   "source": [
    "def germination_frequency(plots_folder: str, df, output: int = 1) -> None:\n",
    "\n",
    "  germination_frames_list = list(df[\"GERMINATION_INDEX\"])\n",
    "  frames_shown: int = 189\n",
    "\n",
    "\n",
    "  GERMINATION = []\n",
    "  min_frames = 10000\n",
    "  for row in df[\"GERMINATION\"].apply(ast.literal_eval):\n",
    "    if len(row)<min_frames:\n",
    "      min_frames = len(row)\n",
    "\n",
    "  for row in df[\"GERMINATION\"].apply(ast.literal_eval):\n",
    "    GERMINATION.append(row[:min_frames])\n",
    "\n",
    "  bin_size = get_bin_width(np.array(GERMINATION), \"Sturges\")\n",
    "  print(f\"optimal bin width: {bin_size}\")\n",
    "\n",
    "  #print times frame germination occurs\n",
    "  frame_counts = Counter(germination_frames_list)\n",
    "  sorted_frame_counts = sorted(frame_counts.items())\n",
    "\n",
    "  germination_events: list[int] = []\n",
    "  percent_germinated_at_t: list[int] = []\n",
    "  for frame_number, count in sorted_frame_counts:\n",
    "      if output == 1:\n",
    "        germination_events.append(count)\n",
    "  #histogram plot \n",
    "  fig, ax1 = plt.subplots()\n",
    "\n",
    "  #germinant intervals\n",
    "  ax1.grid(color='silver', linewidth=1, linestyle = \"dashed\", which = \"both\", axis = \"x\")\n",
    "\n",
    "  #histogram\n",
    "  sns.histplot(germination_frames_list, bins = bin_size, label = f\"Germination Events\", ax = ax1, color = \"powderblue\")\n",
    "  \n",
    "  #axis labels \n",
    "  ax1.set_xlabel(\"Frame\", fontsize = 16)\n",
    "  ax1.set_ylabel(\"Germination Event Frequency\", fontsize = 16)\n",
    "\n",
    "  #x axis limit and ticks\n",
    "  ax1.set_xlim([0, frames_shown])\n",
    " \n",
    "  #overlaid percentage plot \n",
    "  total_spores = sum(count for frame, count in sorted_frame_counts)\n",
    "  spores_count = total_spores\n",
    "  frames = [0]\n",
    "  percents = [100]\n",
    "  percent_plot = [100]\n",
    "  frame_dict = dict(sorted_frame_counts)\n",
    "\n",
    "  total_percent = 100  \n",
    "\n",
    "  ### by individual frames\n",
    "  for frame_number in range(1, frames_shown+1):\n",
    "    if frame_number in frame_dict:\n",
    "      count = frame_dict[frame_number]\n",
    "      spores_count -= count\n",
    "      total_percent = spores_count / total_spores * 100\n",
    "      t_percent = count/total_spores * 100\n",
    "      percent_plot.append(total_percent)\n",
    "      percent_germinated_at_t.append(t_percent)\n",
    "    percents.append(total_percent)\n",
    "    frames.append(frame_number)\n",
    "\n",
    "  #percent plot\n",
    "  ax2 = ax1.twinx()\n",
    "  sns.lineplot(x=frames, y=percents, ax = ax2, linestyle = \"--\", linewidth = 2, label = \"Dormant Percentage\", color = \"tomato\")\n",
    "\n",
    "  #custom germinant label\n",
    "  ax2.axvline(x=11, color='silver', label='Germinant Exposure', linewidth = 1, linestyle = \"dashed\")\n",
    "\n",
    "  #percent y axis formatting\n",
    "  ax2.set_ylabel(\"Dormant Percentage\", fontsize = 16)\n",
    "  ax2.set_yticks([0, 25, 50, 75, 100])\n",
    "  ax2.tick_params(axis='y', labelsize=12)\n",
    "  ax2.yaxis.set_major_formatter(FuncFormatter(lambda y, _: f'{int(y)}%'))\n",
    "  \n",
    "  #legends\n",
    "  handles1, labels1 = ax1.get_legend_handles_labels()\n",
    "  handles2, labels2 = ax2.get_legend_handles_labels()\n",
    "  ax2.legend(handles=handles1 + handles2, labels=labels1 + labels2, loc='best', fontsize=12)\n",
    "\n",
    "  plt.tight_layout()\n",
    "  plt.savefig(f\"{plots_folder}germination_percentage_{bin_size}bins.jpg\")\n",
    "  plt.clf()\n",
    "  \n",
    "  ### Stats\n",
    "  print(f\"Total Spores: {total_spores}\")\n",
    "\n",
    "  ## statistics by frames\n",
    "  print(\"\\n Statistics by Events:\")\n",
    "  print(f\"Frames that events occur: {len(germination_events)}\")\n",
    "  print(f\"Frames: {str(list(frame_dict.keys())).replace(',', ' &')}\")\n",
    "  print(f\"Germination Events: {str(germination_events).replace(',', ' &')}\")\n",
    "  print(f\"Total Percentage: [{' & '.join([f'{elem:.0f}' for elem in percent_plot[1:]])}]\")\n",
    "  print(f\"Percentage at frame: [{' & '.join([f'{elem:.0f}' for elem in percent_germinated_at_t[1:]])}]\")\n",
    "\n",
    "germination_frequency(plots_folder, df)"
   ]
  },
  {
   "cell_type": "markdown",
   "metadata": {},
   "source": [
    "Creates a piechart of germinant exposures until germination"
   ]
  },
  {
   "cell_type": "code",
   "execution_count": 315,
   "metadata": {},
   "outputs": [
    {
     "name": "stdout",
     "output_type": "stream",
     "text": [
      "\n",
      " Statistics by Exposures:\n",
      "Germinant Exposures: [1 & 2 & 3 & 4 & 8]\n",
      "Germination Events: [72 & 39 & 11 & 7 & 1]\n",
      "Total Dormancy Percentage: [91.54 & 36.15 & 6.15 & 0.77 & 0.00]\n",
      "Percent Germinated at Exposure: [8.46 & 55.38 & 30.00 & 5.38 & 0.77]\n"
     ]
    },
    {
     "data": {
      "text/plain": [
       "<Figure size 640x480 with 0 Axes>"
      ]
     },
     "metadata": {},
     "output_type": "display_data"
    }
   ],
   "source": [
    "def piechart_germination_exposure(df):\n",
    "    total_spores = len(df)\n",
    "    df = df.sort_values(by=['GERMINANT_EXPOSURES'])\n",
    "    exposures_list = df['GERMINANT_EXPOSURES'].unique()\n",
    "    value_counts = df['GERMINANT_EXPOSURES'].value_counts()\n",
    "\n",
    "    #========================GERMINANT EXPOSURE\n",
    "    ## statistics by germinant exposures\n",
    "    total_percentage_by_exposure = []\n",
    "    percentage_at_exposure = []\n",
    "\n",
    "    total_germinated = 0\n",
    "    for exposure in exposures_list:\n",
    "        spores_germinated_interval = value_counts[exposure]\n",
    "        total_germinated += spores_germinated_interval\n",
    "        total_percentage_by_exposure.append(((total_spores - total_germinated) / total_spores) * 100)\n",
    "\n",
    "        percentage_at_t = (spores_germinated_interval / total_spores) * 100\n",
    "        percentage_at_exposure.append(percentage_at_t)\n",
    "\n",
    "    ### Pie chart by germinant exposures\n",
    "    labels = [f'$GE_{exposure}$ = {value_counts[exposure] / total_spores * 100 :.2f}%' for exposure in exposures_list]\n",
    "\n",
    "    plt.clf()\n",
    "    colors = sns.color_palette('pastel')[0:len(percentage_at_exposure)]\n",
    "\n",
    "    explode_val = percentage_at_exposure.index(max(percentage_at_exposure))\n",
    "    explode = [0 for _ in range(len(percentage_at_exposure))]\n",
    "    explode[explode_val] = 0.1\n",
    "\n",
    "    plt.pie(percentage_at_exposure, labels=labels, shadow=True, colors=colors, wedgeprops={'edgecolor': 'black'}, startangle=140, explode=explode, pctdistance=1.00)\n",
    "    plt.title(\"Distribution of Germination Exposures\")\n",
    "    plt.savefig(plots_folder + \"piechart_germination_atexposure.jpg\")\n",
    "    plt.clf()\n",
    "\n",
    "    ## Print stats\n",
    "    print(\"\\n Statistics by Exposures:\")\n",
    "    print(f\"Germinant Exposures: {str(list(exposures_list)).replace(',', ' &')}\")\n",
    "    print(f\"Germination Events: {str(list(value_counts)).replace(',', ' &')}\")\n",
    "    print(f\"Total Dormancy Percentage: [{' & '.join([f'{elem:.2f}' for elem in total_percentage_by_exposure])}]\")\n",
    "    print(f\"Percent Germinated at Exposure: [{' & '.join([f'{elem:.2f}' for elem in percentage_at_exposure])}]\")\n",
    "\n",
    "piechart_germination_exposure(df)"
   ]
  },
  {
   "cell_type": "markdown",
   "metadata": {},
   "source": [
    "## Feature Analysis"
   ]
  },
  {
   "cell_type": "markdown",
   "metadata": {},
   "source": [
    "Get minimum and maximum global value of a given feature"
   ]
  },
  {
   "cell_type": "code",
   "execution_count": 316,
   "metadata": {},
   "outputs": [],
   "source": [
    "def get_min_max(df, feature: str) -> int:\n",
    "    data_max = []\n",
    "    data_min = []\n",
    "    data = df[feature].apply(ast.literal_eval) \n",
    "    for row in data:\n",
    "        data_max.append(max(row))\n",
    "        data_min.append(min(row))\n",
    "    return [min(data_min), max(data_max)]\n",
    "\n",
    "minmax_intensity: list[int, int] = get_min_max(df, \"INTENSITY\")\n",
    "minmax_area: list[int, int] = get_min_max(df, \"AREA\")\n",
    "minmax_minor: list[int, int] = get_min_max(df, \"ELLIPSE MINOR\")\n",
    "minmax_major: list[int, int] = get_min_max(df, \"ELLIPSE MAJOR\")\n",
    "minmax_perimeter: list[int, int] = get_min_max(df, \"PERIMETER\")\n",
    "minmax_circularity: list[int, int] = get_min_max(df, \"CIRCULARITY\")\n",
    "minmax_aspectratio: list[int, int] = get_min_max(df, \"ELLIPSE ASPECT RATIO\")"
   ]
  },
  {
   "cell_type": "markdown",
   "metadata": {},
   "source": [
    "Adds initial feature value, last feature value before germination, and the difference between these two in \"INITIAL_{feature}\", \"LAST_{feature}\" and \"DIFF_{feature}\" columns"
   ]
  },
  {
   "cell_type": "code",
   "execution_count": 317,
   "metadata": {},
   "outputs": [],
   "source": [
    "def add_initial_last_measure_feature(df, feature:str):\n",
    "\n",
    "  FEATURE = df[feature].apply(ast.literal_eval)\n",
    "\n",
    "  INITIAL_FEATURE_COLUMN = []\n",
    "  LAST_FEATURE_COLUMN = []\n",
    "  DIFF_FEATURE_COLUMN = []\n",
    "\n",
    "  for i in range(len(df)):\n",
    "    spore_feature = FEATURE[i]\n",
    "    spore_germination_frame = df.loc[i, \"GERMINATION_INDEX\"]\n",
    "\n",
    "    feature_before_germination: list[int] = spore_feature[0: spore_germination_frame]\n",
    "\n",
    "    initial_feature = np.mean(feature_before_germination[0: 1]) #averaged over first and last frames\n",
    "    INITIAL_FEATURE_COLUMN.append(initial_feature)\n",
    "    \n",
    "    last_feature = np.mean(feature_before_germination[-2: -1])\n",
    "    LAST_FEATURE_COLUMN.append(last_feature)\n",
    "\n",
    "    diff_feature = abs(last_feature - initial_feature)\n",
    "    DIFF_FEATURE_COLUMN.append(diff_feature)\n",
    "\n",
    "  df[f\"INITIAL_{feature}\"] = INITIAL_FEATURE_COLUMN\n",
    "  df[f\"LAST_{feature}\"] = LAST_FEATURE_COLUMN\n",
    "  df[f\"DIFF_{feature}\"] = DIFF_FEATURE_COLUMN\n",
    "\n",
    "\n",
    "add_initial_last_measure_feature(df, \"INTENSITY\")\n",
    "add_initial_last_measure_feature(df, \"AREA\")\n",
    "add_initial_last_measure_feature(df, \"ELLIPSE MINOR\")\n",
    "add_initial_last_measure_feature(df, \"ELLIPSE MAJOR\")\n",
    "add_initial_last_measure_feature(df, \"ELLIPSE ASPECT RATIO\")\n",
    "add_initial_last_measure_feature(df, \"PERIMETER\")\n",
    "add_initial_last_measure_feature(df, \"CIRCULARITY\")"
   ]
  },
  {
   "cell_type": "markdown",
   "metadata": {},
   "source": [
    "### PENDING: Swarmplot of germination frame and feature values"
   ]
  },
  {
   "cell_type": "markdown",
   "metadata": {},
   "source": [
    "### Sample of feature behaviors over time"
   ]
  },
  {
   "cell_type": "code",
   "execution_count": 318,
   "metadata": {},
   "outputs": [
    {
     "data": {
      "text/plain": [
       "<Figure size 640x480 with 0 Axes>"
      ]
     },
     "metadata": {},
     "output_type": "display_data"
    },
    {
     "data": {
      "text/plain": [
       "<Figure size 1200x800 with 0 Axes>"
      ]
     },
     "metadata": {},
     "output_type": "display_data"
    },
    {
     "data": {
      "text/plain": [
       "<Figure size 1200x800 with 0 Axes>"
      ]
     },
     "metadata": {},
     "output_type": "display_data"
    },
    {
     "data": {
      "text/plain": [
       "<Figure size 1200x800 with 0 Axes>"
      ]
     },
     "metadata": {},
     "output_type": "display_data"
    },
    {
     "data": {
      "text/plain": [
       "<Figure size 1200x800 with 0 Axes>"
      ]
     },
     "metadata": {},
     "output_type": "display_data"
    },
    {
     "data": {
      "text/plain": [
       "<Figure size 1200x800 with 0 Axes>"
      ]
     },
     "metadata": {},
     "output_type": "display_data"
    },
    {
     "data": {
      "text/plain": [
       "<Figure size 1200x800 with 0 Axes>"
      ]
     },
     "metadata": {},
     "output_type": "display_data"
    },
    {
     "data": {
      "text/plain": [
       "<Figure size 1200x800 with 0 Axes>"
      ]
     },
     "metadata": {},
     "output_type": "display_data"
    }
   ],
   "source": [
    "def plot_feature_example(feature_column_title, feature: str, frames: list[int]):\n",
    "    FEATURE = df[feature_column_title].apply(ast.literal_eval)\n",
    "\n",
    "    #plot initializing\n",
    "    plt.clf()\n",
    "    palette = sns.color_palette('Spectral', n_colors=len(frames))\n",
    "    custom_handles = []\n",
    "    spore_labels = []\n",
    "    plt.figure(figsize=(12,8))\n",
    "\n",
    "    #germinant intervals\n",
    "    for frame in frames[0:5]:\n",
    "      plt.axvline(x = frame - 1, color='silver', linestyle='--', linewidth = 2) \n",
    "    custom_handles.append(plt.Line2D([0], [0], color='silver', linestyle='dashed', label=\"Germinant Exposure\", linewidth = 2))\n",
    "\n",
    "    #---\n",
    "    for frame in frames[:: -1]: \n",
    "      tmp = 0\n",
    "      for spore_index, feature_row in enumerate(FEATURE):\n",
    "        germination_frame = df[\"GERMINATION_INDEX\"][spore_index]\n",
    "        if germination_frame == frame:\n",
    "          tmp += 1\n",
    "          if tmp == 3:\n",
    "            frame_index = frames.index(frame)\n",
    "            colorline = palette[frame_index % len(palette)]\n",
    "            #before germination\n",
    "            sns.lineplot(x=range(germination_frame), y=feature_row[:germination_frame], linewidth=10, color = colorline, label = f\"Spore {frame_index + 1}\")#, label=f'Germinated at L-alanine Exposure {frames.index(frame) + 1}', )\n",
    "            #after germination\n",
    "            sns.lineplot(x = range(germination_frame-1, len(feature_row)), y=feature_row[germination_frame-1:], linestyle = '-', color = colorline, linewidth = 3)\n",
    "            #legend for spore labels\n",
    "            custom_handles.append(plt.Line2D([0], [0], color=colorline, lw=4, linestyle='None', marker='o', label=f\"Spore {frame_index + 1}\"))\n",
    "            spore_labels.append((f\"Spore {frame_index + 1}\", colorline))  \n",
    "            break  \n",
    "\n",
    "    #axis fonts size\n",
    "    axis_fontsize = 32\n",
    "    #plt.xlabel('Frame', fontsize=axis_fontsize) \n",
    "    #plt.ylabel(f\"{feature}\", fontsize=axis_fontsize)  \n",
    "   \n",
    "    #axis ticks and limits\n",
    "    plt.xticks(fontsize = 20)  \n",
    "    plt.yticks(fontsize = 20)\n",
    "   # plt.xlim(0, 95)\n",
    "    plt.ylim(0, 1)\n",
    "\n",
    "    #legend\n",
    "    custom_handles = custom_handles[::-1]\n",
    "    plt.legend(handles=custom_handles, loc='best', shadow = True, fontsize=20)  \n",
    "    plt.tight_layout(rect=[0, 0, 0.85, 1])  \n",
    "\n",
    "    plt.savefig(f\"{plots_folder}sample_{feature}.jpg\")\n",
    "    plt.clf()\n",
    "\n",
    "plot_feature_example(\"INTENSITY\", \"Electrochemical Potential\", sample_germination_frames)\n",
    "plot_feature_example(\"AREA\", \"Size\", sample_germination_frames)\n",
    "plot_feature_example(\"ELLIPSE MINOR\", \"Ellipse Minor\", sample_germination_frames)\n",
    "plot_feature_example(\"ELLIPSE MAJOR\", \"Ellipse Major\", sample_germination_frames)\n",
    "plot_feature_example(\"PERIMETER\", \"Perimeter\", sample_germination_frames)\n",
    "plot_feature_example(\"CIRCULARITY\", \"Circularity\", sample_germination_frames)\n",
    "plot_feature_example(\"ELLIPSE ASPECT RATIO\", \"Ellipse Aspect Ratio\", sample_germination_frames)"
   ]
  },
  {
   "cell_type": "markdown",
   "metadata": {},
   "source": [
    "### PENDING: Feature Trends"
   ]
  },
  {
   "cell_type": "code",
   "execution_count": 319,
   "metadata": {},
   "outputs": [],
   "source": [
    "def feature_trends(df, feature: str):\n",
    "    germination_groups = df.groupby(\"GERMINATION_INDEX\")\n",
    "    for germination_frame, group in germination_groups:\n",
    "        FEATURE = group[feature].apply(ast.literal_eval)\n",
    "        \n",
    "        mean_features = []\n",
    "        \n",
    "        # Calculate the maximum length of the time series to pad shorter series\n",
    "        max_length = max(FEATURE.apply(len))\n",
    "        \n",
    "        # Create an array to accumulate the sums\n",
    "        sum_features = np.zeros(max_length)\n",
    "        count_features = np.zeros(max_length)\n",
    "        \n",
    "        for row in FEATURE:\n",
    "            row_len = len(row)\n",
    "            sum_features[:row_len] += row\n",
    "            count_features[:row_len] += 1\n",
    "            plt.scatter(range(row_len), row, s = .5, color = \"lightblue\")\n",
    "        \n",
    "        mean_features = sum_features / count_features\n",
    "        \n",
    "        # Plot the mean feature trend\n",
    "        plt.plot(range(0, germination_frame), mean_features[:germination_frame])\n",
    "        plt.plot(range(germination_frame-1, len(mean_features)), mean_features[germination_frame -1:])\n",
    "        \n",
    "        plt.xlabel('Time Index')\n",
    "        plt.ylabel(f'{feature} Value')\n",
    "        #plt.title(f'{feature} Trends for Exposure {exposure_number}')\n",
    "        plt.legend()\n",
    "        plt.show()\n",
    "\n",
    "#feature_trends(df, \"INTENSITY\")\n",
    "        "
   ]
  },
  {
   "cell_type": "markdown",
   "metadata": {},
   "source": [
    "### Heatmap of Spore Features over the Population"
   ]
  },
  {
   "cell_type": "code",
   "execution_count": 320,
   "metadata": {},
   "outputs": [
    {
     "data": {
      "text/plain": [
       "<Figure size 640x480 with 0 Axes>"
      ]
     },
     "metadata": {},
     "output_type": "display_data"
    }
   ],
   "source": [
    "def plot_feature_allspores(df, feature_column_title, feature: str):\n",
    "  plt.clf()\n",
    "  exp_length = np.min(len(df[\"GERMINATION\"][:]))\n",
    "     \n",
    "\n",
    "  df = df.sort_values(by='GERMINATION_INDEX')\n",
    "  FEATURE_pre = df[feature_column_title].apply(ast.literal_eval).tolist()\n",
    "\n",
    "  FEATURE = []\n",
    "  for spore_row in FEATURE_pre:\n",
    "     FEATURE.append(spore_row[:exp_length])\n",
    "     \n",
    "  Z = np.array(FEATURE)\n",
    "\n",
    "\n",
    "  sns.heatmap(data = Z)#, cmap=plt.cm.viridis)\n",
    "  for frame in germinant_exposures:\n",
    "      plt.axvline(x=frame, color='grey', linestyle=\"dotted\", linewidth = 2)\n",
    "  plt.xlabel(\"Frame\")\n",
    "  plt.ylabel(\"Spore Index\")\n",
    "  plt.savefig(f\"{plots_folder + feature}.jpg\")\n",
    "  plt.clf()\n",
    "\n",
    "plot_feature_allspores(df, \"INTENSITY\", \"Intensity\")\n",
    "plot_feature_allspores(df, \"AREA\", \"Area\")\n",
    "plot_feature_allspores(df, \"ELLIPSE MINOR\", \"Minor\")\n",
    "plot_feature_allspores(df, \"ELLIPSE MAJOR\", \"Major\")\n",
    "plot_feature_allspores(df, \"PERIMETER\", \"Perimeter\")\n",
    "plot_feature_allspores(df, \"CIRCULARITY\", \"Circularity\")\n",
    "plot_feature_allspores(df, \"ELLIPSE ASPECT RATIO\", \"AspectRatio\")\n",
    "plot_feature_allspores(df, \"GERMINATION\", \"Germination\")"
   ]
  },
  {
   "cell_type": "markdown",
   "metadata": {},
   "source": [
    "## Feature Relationships"
   ]
  },
  {
   "cell_type": "markdown",
   "metadata": {},
   "source": [
    "### Heatmap showing Pearson Correlation Coefficient between Physiological Features"
   ]
  },
  {
   "cell_type": "code",
   "execution_count": 321,
   "metadata": {},
   "outputs": [
    {
     "data": {
      "text/plain": [
       "<Figure size 640x480 with 0 Axes>"
      ]
     },
     "metadata": {},
     "output_type": "display_data"
    },
    {
     "data": {
      "text/plain": [
       "<Figure size 1400x1300 with 0 Axes>"
      ]
     },
     "metadata": {},
     "output_type": "display_data"
    }
   ],
   "source": [
    "def feature_heatmap(df, features_list, plot_title, custom_labels, bold_labels):\n",
    "  '''takes in df in format where each row denotes a spore and each column is a feature and each cell is feature over time in a list'''\n",
    "  plt.clf()\n",
    "\n",
    "  correlation_matrices = []\n",
    "\n",
    "  for spore_index in range(len(df)):\n",
    "    spore_features = []\n",
    "    for feature in features_list:\n",
    "      spore_feature = ast.literal_eval(df.loc[spore_index, feature])\n",
    "      spore_features.append(spore_feature)\n",
    "    spore_df = pd.DataFrame(spore_features).T\n",
    "    spore_df.columns = features_list\n",
    "\n",
    "    spore_feature_correlation = spore_df.corr()\n",
    "\n",
    "    correlation_matrices.append(spore_feature_correlation)\n",
    "  \n",
    "  avg_correlation_matrix = np.mean(correlation_matrices, axis=0)\n",
    "  avg_correlation_df = pd.DataFrame(avg_correlation_matrix, index=features_list, columns=features_list)\n",
    "  avg_correlation_df.rename(columns=custom_labels, index=custom_labels, inplace=True)\n",
    "\n",
    "  # Plot the heatmap for the average correlation matrix\n",
    "  plt.figure(figsize = ((14,13)))\n",
    "  ax = sns.heatmap(avg_correlation_df, annot=True, vmin=-1, vmax=1, cmap=\"coolwarm\", \n",
    "                   xticklabels=True, yticklabels=True, annot_kws={\"size\": 15}, #numbers in heatmap\n",
    "                   cbar_kws={'label': \"$r_{F_1, F_2}$\"}, cbar = False)\n",
    "\n",
    "  ax.set_aspect('equal')\n",
    "\n",
    "  # Customize tick labels\n",
    "  tick_font_size = 24\n",
    "\n",
    "  for tick in ax.get_xticklabels():\n",
    "      if bold_labels and tick.get_text() in bold_labels:\n",
    "          tick.set_weight('bold')\n",
    "      tick.set_fontsize(tick_font_size) #labels size\n",
    "  \n",
    "  for tick in ax.get_yticklabels():\n",
    "      if bold_labels and tick.get_text() in bold_labels:\n",
    "          tick.set_weight('bold')\n",
    "      tick.set_fontsize(tick_font_size)\n",
    "  plt.yticks(rotation=0) \n",
    "  plt.xticks(rotation=90) \n",
    "\n",
    "\n",
    "      \n",
    "  #padding between labels and heatmap\n",
    "  ax.tick_params(axis='x', pad=10)\n",
    "  ax.tick_params(axis='y', pad=10)\n",
    "\n",
    "  #colorbar with the same height as the heatmap\n",
    "  divider = make_axes_locatable(ax)\n",
    "  cax = divider.append_axes(\"right\", size=\"5%\", pad=0.5)\n",
    "  cbar = plt.colorbar(ax.collections[0], cax=cax)\n",
    "\n",
    "  # Customize colorbar label size\n",
    "  cbar.ax.tick_params(labelsize=20)\n",
    "  cbar.ax.yaxis.label.set_size(30)\n",
    "  cbar.ax.yaxis.label.set_text(\"Pearson Correlation Coefficient {$r_{F_1, F_2}$}\")\n",
    "  cbar.ax.yaxis.labelpad = 15\n",
    "\n",
    "  #save\n",
    "  plt.tight_layout()\n",
    "  plt.savefig(f\"{plots_folder + plot_title}.jpg\")\n",
    "  plt.clf()\n",
    "\n",
    "  # feature heatmap call \n",
    "\n",
    "heatmap_labels = {\n",
    "  'GERMINATION': 'Germination',\n",
    "  'INTENSITY': 'Intensity',\n",
    "  \"AREA\": \"Area\",\n",
    "  \"ELLIPSE MINOR\": \"Ellipse Minor\",\n",
    "  \"ELLIPSE MAJOR\": \"Ellipse Major\",\n",
    "  \"PERIMETER\": \"Perimeter\",\n",
    "  \"CIRCULARITY\": \"Circularity\",\n",
    "  \"GERMINANT EXPOSURE\": \"Germinant Exposure\",\n",
    "  \"ELLIPSE ASPECT RATIO\": \"Ellipse Aspect Ratio\"\n",
    "  }\n",
    "features = [\"GERMINATION\", \"INTENSITY\", \"AREA\", \"ELLIPSE MINOR\", \"ELLIPSE MAJOR\", \"PERIMETER\", \"CIRCULARITY\", \"ELLIPSE ASPECT RATIO\"]\n",
    "bold_labels = [\"Intensity\", \"Area\", \"Ellipse Minor\", \"Ellipse Major\", \"Perimeter\", \"Ellipse Aspect Ratio\"]\n",
    "feature_heatmap(df, features, \"Feature Correlations over Time\", heatmap_labels, bold_labels)"
   ]
  }
 ],
 "metadata": {
  "kernelspec": {
   "display_name": "Python 3",
   "language": "python",
   "name": "python3"
  },
  "language_info": {
   "codemirror_mode": {
    "name": "ipython",
    "version": 3
   },
   "file_extension": ".py",
   "mimetype": "text/x-python",
   "name": "python",
   "nbconvert_exporter": "python",
   "pygments_lexer": "ipython3",
   "version": "3.9.6"
  }
 },
 "nbformat": 4,
 "nbformat_minor": 2
}
