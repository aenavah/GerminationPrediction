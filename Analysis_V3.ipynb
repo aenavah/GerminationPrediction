{
 "cells": [
  {
   "cell_type": "code",
   "execution_count": null,
   "metadata": {},
   "outputs": [],
   "source": []
  },
  {
   "cell_type": "code",
   "execution_count": null,
   "metadata": {},
   "outputs": [],
   "source": []
  },
  {
   "cell_type": "code",
   "execution_count": 1,
   "metadata": {},
   "outputs": [],
   "source": [
    "#Libraries\n",
    "%matplotlib inline\n",
    "import numpy as np\n",
    "import matplotlib.pyplot as plt\n",
    "import pandas as pd\n",
    "from collections import Counter\n",
    "import ast \n",
    "import scipy.stats as stats\n",
    "import math\n",
    "import seaborn as sns\n",
    "\n",
    "\n",
    "from mpl_toolkits.axes_grid1.inset_locator import inset_axes\n",
    "import statsmodels.api as sm\n",
    "from sympy import symbols, integrate, lambdify, diff\n",
    "import scipy.integrate as spi\n",
    "from sklearn.preprocessing import MinMaxScaler\n",
    "from scipy.stats import f_oneway, kruskal\n",
    "from statsmodels.formula.api import ols\n",
    "from statsmodels.stats.multicomp import pairwise_tukeyhsd\n",
    "import statsmodels.api as sm\n",
    "from matplotlib.lines import Line2D\n",
    "from matplotlib.ticker import FuncFormatter\n",
    "from mpl_toolkits.axes_grid1 import make_axes_locatable\n",
    "from sklearn.linear_model import LinearRegression\n",
    "from sklearn.preprocessing import StandardScaler\n",
    "\n",
    "from sklearn.cluster import KMeans\n",
    "\n",
    "\n",
    "from sklearn.preprocessing import PolynomialFeatures\n",
    "from sklearn.cluster import DBSCAN\n",
    "### PCA Analysis\n",
    "from scipy.stats import spearmanr, pearsonr\n",
    "from sklearn.decomposition import PCA\n",
    "from sklearn.metrics import silhouette_score, davies_bouldin_score\n",
    "from sklearn.discriminant_analysis import LinearDiscriminantAnalysis as LDA\n",
    "\n"
   ]
  },
  {
   "cell_type": "markdown",
   "metadata": {},
   "source": [
    "### Define Dataset to conduct analysis on: "
   ]
  },
  {
   "cell_type": "code",
   "execution_count": 2,
   "metadata": {},
   "outputs": [],
   "source": [
    "time_between_frames = 5\n",
    "initial_exposure = 60\n",
    "time_between_exposure = 120\n",
    "num_frames = 276\n",
    "\n",
    "#framerange = [(0, 25), (25, 50), (50, 75), (75, 100), (100, 300)]\n",
    "columns_to_scale = ['INTENSITY', 'AREA', 'GERMINANT EXPOSURE', 'GERMINATION',\n",
    "                    'ELLIPSE MINOR', 'ELLIPSE MAJOR', 'PERIMETER', 'CIRCULARITY', \"ELLIPSE ASPECT RATIO\"]\n"
   ]
  },
  {
   "cell_type": "code",
   "execution_count": 3,
   "metadata": {},
   "outputs": [],
   "source": [
    "#experiment = \"combined\"\n",
    "experiment = \"M4581_s1\"\n",
    "#experiment = \"M4567_s2\"\n",
    "#experiment = \"M4581_s7\"\n",
    "#experiment = \"M4576_s4\"\n",
    "#experiment = \"M4576_s7\"\n",
    "#experiment = \"M4581_s4\"\n"
   ]
  },
  {
   "cell_type": "markdown",
   "metadata": {},
   "source": [
    "---\n",
    "# Analysis "
   ]
  },
  {
   "cell_type": "markdown",
   "metadata": {},
   "source": [
    "### Initialization: includes calculating exposure, bin width, and normalization functions"
   ]
  },
  {
   "cell_type": "code",
   "execution_count": 4,
   "metadata": {},
   "outputs": [
    {
     "name": "stdout",
     "output_type": "stream",
     "text": [
      "first germinant exposure: 11.0\n",
      "time between germinant exposures: 24.0\n",
      "Germinant exposures: [11.0, 35.0, 59.0, 83.0, 107.0, 131.0, 155.0, 179.0, 203.0, 227.0, 251.0, 275.0]\n"
     ]
    }
   ],
   "source": [
    "def calculate_exposure(num_frames, initial_exposure, time_between_exposure, time_between_frames) -> list[int]:\n",
    "\n",
    "  frames_between_exposures = time_between_exposure/time_between_frames\n",
    "  first_frame_exposure = initial_exposure/time_between_frames - 1\n",
    "\n",
    "  print(f\"first germinant exposure: {first_frame_exposure}\")\n",
    "  print(f\"time between germinant exposures: {frames_between_exposures}\")\n",
    "\n",
    "  exposure_frames = [first_frame_exposure]\n",
    "\n",
    "  while exposure_frames[-1] + frames_between_exposures < num_frames:\n",
    "    exposure_frames.append(exposure_frames[-1] + frames_between_exposures)\n",
    "\n",
    "  return first_frame_exposure, frames_between_exposures, exposure_frames\n",
    "\n",
    "# function call \n",
    "first_frame_exposure, frames_between_exposures, germinant_exposures = calculate_exposure(num_frames, initial_exposure, time_between_exposure, time_between_frames)\n",
    "print(f\"Germinant exposures: {germinant_exposures}\")\n",
    "\n",
    "sample_germination_frames = [frame + 2 for frame in germinant_exposures]"
   ]
  },
  {
   "cell_type": "markdown",
   "metadata": {},
   "source": [
    "Bin Width using (1) Sturges Method (use with small datasets) (2) Scott's Rule normally distributed data (3) Freedman-Diaconis Rule - robust to outliers"
   ]
  },
  {
   "cell_type": "code",
   "execution_count": 5,
   "metadata": {},
   "outputs": [],
   "source": [
    "def get_bin_width(data, method):  \n",
    "  if method == \"Sturges\":\n",
    "    k = int(np.ceil(np.log2(len(data)) + 1))\n",
    "    bin_width = (np.max(data) - np.min(data)) / k\n",
    "\n",
    "  if method == \"Scotts\":\n",
    "    bin_width = 3.5 * np.std(data) / (len(data) ** (1/3))\n",
    "\n",
    "  if method == \"Freedman\":\n",
    "    q25, q75 = np.percentile(data, [25, 75])\n",
    "    iqr = q75 - q25\n",
    "    bin_width = 2 * iqr / (len(data) ** (1/3))\n",
    "\n",
    "  bins = int(np.ceil((data.max() - data.min()) / bin_width))\n",
    "  return bins"
   ]
  },
  {
   "cell_type": "markdown",
   "metadata": {},
   "source": [
    "Normalize DataSet: "
   ]
  },
  {
   "cell_type": "code",
   "execution_count": 6,
   "metadata": {},
   "outputs": [],
   "source": [
    "def scale_csv_data(file_path: str, columns_to_scale: list[str]):\n",
    "    data = pd.read_csv(file_path)\n",
    "    scaler = MinMaxScaler()\n",
    "\n",
    "    def scale_column(column):\n",
    "        lists = column.apply(ast.literal_eval)\n",
    "        flattened = np.concatenate(lists.values)\n",
    "        scaled_flattened = scaler.fit_transform(flattened.reshape(-1, 1)).flatten()\n",
    "        scaled_lists = []\n",
    "        start = 0\n",
    "        for lst in lists:\n",
    "            end = start + len(lst)\n",
    "            scaled_lists.append(scaled_flattened[start:end].tolist())\n",
    "            start = end\n",
    "        return [str(lst) for lst in scaled_lists]\n",
    "    \n",
    "    for column in columns_to_scale:\n",
    "        data[column] = scale_column(data[column])\n",
    "\n",
    "    return data"
   ]
  },
  {
   "cell_type": "markdown",
   "metadata": {},
   "source": [
    "Datasets:"
   ]
  },
  {
   "cell_type": "code",
   "execution_count": 7,
   "metadata": {},
   "outputs": [],
   "source": [
    "#M4581_s1\n",
    "if experiment == \"M4581_s1\":\n",
    "  csv_path = \"/Users/alexandranava/Desktop/Spores/M4581_s1/Analysis/V3/M4581_s1_Model_Data.csv\"\n",
    "  plots_folder= \"/Users/alexandranava/Desktop/Spores/M4581_s1/Analysis/V3/Plots/\"\n",
    "  df  = scale_csv_data(csv_path, columns_to_scale)\n",
    "  combined = 0\n",
    "\n",
    "#M4576_s2\n",
    "if experiment == \"M4576_s2\":\n",
    "  csv_path = \"/Users/alexandranava/Desktop/Spores/M4576_s2/M4576_s2_Model_Data.csv\"\n",
    "  plots_folder = \"/Users/alexandranava/Desktop/Spores/M4576_s2/Analysis/Plots/\"\n",
    "  df  = scale_csv_data(csv_path, columns_to_scale)\n",
    "  combined = 0\n",
    "\n",
    "#combined datasets\n",
    "if experiment == \"combined\":\n",
    "  plots_folder = \"/Users/alexandranava/Desktop/Spores/M4581_s1andM4576_s2/plots/\"\n",
    "  csv_path = \"/Users/alexandranava/Desktop/Spores/M4581_s1/Analysis/V3/M4581_s1_Model_Data.csv\"\n",
    "  M4581_s1_scaleddf  = scale_csv_data(csv_path, columns_to_scale)\n",
    "  csv_path2 = \"/Users/alexandranava/Desktop/Spores/M4576_s2/M4576_s2_Model_Data.csv\"\n",
    "  M4576_s2_scaleddf = scale_csv_data(csv_path2, columns_to_scale)\n",
    "  df = pd.concat([M4581_s1_scaleddf, M4576_s2_scaleddf], axis=0)\n",
    "  df.reset_index(drop=True, inplace=True)\n",
    "  combined = 1\n",
    "\n",
    "#M4581_s7\n",
    "if experiment == \"M4581_s7\":\n",
    "  csv_path = \"/Users/alexandranava/Desktop/Spores/M4581_s7/PostProcess_V4/M4581_s7_Model_Data.csv\"\n",
    "  plots_folder = \"/Users/alexandranava/Desktop/Spores/M4581_s7/Analysis/Plots/\"\n",
    "  df  = scale_csv_data(csv_path, columns_to_scale)\n",
    "  combined = 0\n",
    "\n",
    "#M4576_s4\n",
    "if experiment == \"M4576_s4\":\n",
    "  csv_path = \"/Users/alexandranava/Desktop/Spores/M4576_s4/PostProcess_V2/M4576_s4_Model_Data.csv\"\n",
    "  plots_folder = \"/Users/alexandranava/Desktop/Spores/M4576_s4/Analysis/Plots/\"\n",
    "  df  = scale_csv_data(csv_path, columns_to_scale)\n",
    "  combined = 0\n",
    "\n",
    "#M4576_s7\n",
    "if experiment == \"M4576_s7\":\n",
    "  csv_path = \"/Users/alexandranava/Desktop/Spores/M4576_s7/PostProcess_V2/M4576_s7_Model_Data.csv\"\n",
    "  plots_folder = \"/Users/alexandranava/Desktop/Spores/M4576_s7/Analysis/Plots/\"\n",
    "  df  = scale_csv_data(csv_path, columns_to_scale)\n",
    "  combined = 0\n",
    "#M4581_s4\n",
    "if experiment == \"M4581_s4\":\n",
    "  csv_path = \"/Users/alexandranava/Desktop/Spores/M4581_s4/PostProcess_V4/M4581_s4_Model_Data.csv\"\n",
    "  plots_folder = \"/Users/alexandranava/Desktop/Spores/M4581_s4/Analysis/Plots/\"\n",
    "  df  = scale_csv_data(csv_path, columns_to_scale)\n",
    "  combined = 0\n",
    "data_folder = plots_folder.replace(\"Plots\", \"Data\")"
   ]
  },
  {
   "cell_type": "markdown",
   "metadata": {},
   "source": [
    "## Germination Measurement"
   ]
  },
  {
   "cell_type": "markdown",
   "metadata": {},
   "source": [
    "Adds Germination Frame to df in \"GERMINATION_INDEX\" column"
   ]
  },
  {
   "cell_type": "code",
   "execution_count": 8,
   "metadata": {},
   "outputs": [],
   "source": [
    "def add_germination_index(df):\n",
    "    GERMINATION: list[list] = df[\"GERMINATION\"].apply(ast.literal_eval)\n",
    "    germination_frames_list = GERMINATION.apply(lambda x: x.index(1))\n",
    "\n",
    "    df[\"GERMINATION_INDEX\"] = germination_frames_list\n",
    "    #df[\"GERMINATION_INDEX\"] = df[\"GERMINATION_INDEX\"].astype(float)\n",
    "\n",
    "add_germination_index(df)"
   ]
  },
  {
   "cell_type": "markdown",
   "metadata": {},
   "source": [
    "Adds germinant exposures before germination to df in \"GERMINANT_EXPOSURES\" column"
   ]
  },
  {
   "cell_type": "code",
   "execution_count": 9,
   "metadata": {},
   "outputs": [],
   "source": [
    "def add_germinant_exposures(df):\n",
    "  EXPOSURE_COLUMN = [] # {exposure number: spores germinated with that exposure}\n",
    "\n",
    "  for frame_number in df[\"GERMINATION_INDEX\"]:\n",
    "    exposure_count = math.floor((frame_number - first_frame_exposure)/frames_between_exposures) + 1\n",
    "    EXPOSURE_COLUMN.append(exposure_count)\n",
    "  df[\"GERMINANT_EXPOSURES\"] = EXPOSURE_COLUMN\n",
    "  if experiment in [\"M4581_s7\", \"M4576_s7\"]:\n",
    "      df = df[df[\"GERMINANT_EXPOSURES\"] != 3]\n",
    "      df = df.reset_index(drop=True)  # Reindex the dataframe\n",
    "      df.to_csv(csv_path)\n",
    "  return df\n",
    "\n",
    "df = add_germinant_exposures(df)"
   ]
  },
  {
   "cell_type": "markdown",
   "metadata": {},
   "source": [
    "Creates a lineplot of population dormancy, as well as a histogram of germination events"
   ]
  },
  {
   "cell_type": "code",
   "execution_count": 10,
   "metadata": {},
   "outputs": [
    {
     "name": "stdout",
     "output_type": "stream",
     "text": [
      "optimal bin width: 7\n",
      "Total Spores: 54\n",
      "\n",
      " Statistics by Events:\n",
      "Frames that events occur: 11\n",
      "Frames: [13 & 14 & 37 & 38 & 39 & 61 & 62 & 63 & 64 & 86 & 182]\n",
      "Germination Events: [1 & 4 & 5 & 20 & 1 & 3 & 12 & 2 & 1 & 4 & 1]\n",
      "Total Percentage: [98 & 91 & 81 & 44 & 43 & 37 & 15 & 11 & 9 & 2 & 0]\n",
      "Percentage at frame: [7 & 9 & 37 & 2 & 6 & 22 & 4 & 2 & 7 & 2]\n"
     ]
    },
    {
     "data": {
      "text/plain": [
       "<Figure size 640x480 with 0 Axes>"
      ]
     },
     "metadata": {},
     "output_type": "display_data"
    }
   ],
   "source": [
    "def germination_frequency(plots_folder: str, df, output: int = 1) -> None:\n",
    "\n",
    "  germination_frames_list = list(df[\"GERMINATION_INDEX\"])\n",
    "  frames_shown: int = 189\n",
    "\n",
    "\n",
    "  GERMINATION = []\n",
    "  min_frames = 10000\n",
    "  for row in df[\"GERMINATION\"].apply(ast.literal_eval):\n",
    "    if len(row)<min_frames:\n",
    "      min_frames = len(row)\n",
    "\n",
    "  for row in df[\"GERMINATION\"].apply(ast.literal_eval):\n",
    "    GERMINATION.append(row[:min_frames])\n",
    "\n",
    "  bin_size = get_bin_width(np.array(GERMINATION), \"Sturges\")\n",
    "  print(f\"optimal bin width: {bin_size}\")\n",
    "\n",
    "  #print times frame germination occurs\n",
    "  frame_counts = Counter(germination_frames_list)\n",
    "  sorted_frame_counts = sorted(frame_counts.items())\n",
    "\n",
    "  germination_events: list[int] = []\n",
    "  percent_germinated_at_t: list[int] = []\n",
    "  for frame_number, count in sorted_frame_counts:\n",
    "      if output == 1:\n",
    "        germination_events.append(count)\n",
    "  #histogram plot \n",
    "  fig, ax1 = plt.subplots()\n",
    "\n",
    "  #germinant intervals\n",
    "  ax1.grid(color='silver', linewidth=1, linestyle = \"dashed\", which = \"both\", axis = \"x\")\n",
    "\n",
    "  #histogram\n",
    "  sns.histplot(germination_frames_list, bins = bin_size, label = f\"Germination Events\", ax = ax1, color = \"powderblue\")\n",
    "  \n",
    "  #axis labels \n",
    "  ax1.set_xlabel(\"Frame\", fontsize = 16)\n",
    "  ax1.set_ylabel(\"Germination Event Frequency\", fontsize = 16)\n",
    "\n",
    "  #x axis limit and ticks\n",
    "  ax1.set_xlim([0, frames_shown])\n",
    " \n",
    "  #overlaid percentage plot \n",
    "  total_spores = sum(count for frame, count in sorted_frame_counts)\n",
    "  spores_count = total_spores\n",
    "  frames = [0]\n",
    "  percents = [100]\n",
    "  percent_plot = [100]\n",
    "  frame_dict = dict(sorted_frame_counts)\n",
    "\n",
    "  total_percent = 100  \n",
    "\n",
    "  ### by individual frames\n",
    "  for frame_number in range(1, frames_shown+1):\n",
    "    if frame_number in frame_dict:\n",
    "      count = frame_dict[frame_number]\n",
    "      spores_count -= count\n",
    "      total_percent = spores_count / total_spores * 100\n",
    "      t_percent = count/total_spores * 100\n",
    "      percent_plot.append(total_percent)\n",
    "      percent_germinated_at_t.append(t_percent)\n",
    "    percents.append(total_percent)\n",
    "    frames.append(frame_number)\n",
    "\n",
    "  #percent plot\n",
    "  ax2 = ax1.twinx()\n",
    "  sns.lineplot(x=frames, y=percents, ax = ax2, linestyle = \"--\", linewidth = 2, label = \"Dormant Percentage\", color = \"tomato\")\n",
    "\n",
    "  #custom germinant label\n",
    "  ax2.axvline(x=11, color='silver', label='Germinant Exposure', linewidth = 1, linestyle = \"dashed\")\n",
    "\n",
    "  #percent y axis formatting\n",
    "  ax2.set_ylabel(\"Dormant Percentage\", fontsize = 16)\n",
    "  ax2.set_yticks([0, 25, 50, 75, 100])\n",
    "  ax2.tick_params(axis='y', labelsize=12)\n",
    "  ax2.yaxis.set_major_formatter(FuncFormatter(lambda y, _: f'{int(y)}%'))\n",
    "  \n",
    "  #legends\n",
    "  handles1, labels1 = ax1.get_legend_handles_labels()\n",
    "  handles2, labels2 = ax2.get_legend_handles_labels()\n",
    "  ax2.legend(handles=handles1 + handles2, labels=labels1 + labels2, loc='best', fontsize=12)\n",
    "\n",
    "  plt.tight_layout()\n",
    "  plt.savefig(f\"{plots_folder}germination_percentage_{bin_size}bins.jpg\")\n",
    "  plt.clf()\n",
    "  \n",
    "  ### Stats\n",
    "  print(f\"Total Spores: {total_spores}\")\n",
    "\n",
    "  ## statistics by frames\n",
    "  print(\"\\n Statistics by Events:\")\n",
    "  print(f\"Frames that events occur: {len(germination_events)}\")\n",
    "  print(f\"Frames: {str(list(frame_dict.keys())).replace(',', ' &')}\")\n",
    "  print(f\"Germination Events: {str(germination_events).replace(',', ' &')}\")\n",
    "  print(f\"Total Percentage: [{' & '.join([f'{elem:.0f}' for elem in percent_plot[1:]])}]\")\n",
    "  print(f\"Percentage at frame: [{' & '.join([f'{elem:.0f}' for elem in percent_germinated_at_t[1:]])}]\")\n",
    "\n",
    "  return min_frames\n",
    "min_frames = germination_frequency(plots_folder, df)"
   ]
  },
  {
   "cell_type": "markdown",
   "metadata": {},
   "source": [
    "Creates a piechart of germinant exposures until germination"
   ]
  },
  {
   "cell_type": "code",
   "execution_count": 11,
   "metadata": {},
   "outputs": [
    {
     "name": "stdout",
     "output_type": "stream",
     "text": [
      "\n",
      " Statistics by Exposures:\n",
      "Germinant Exposures: [1 & 2 & 3 & 4 & 8]\n",
      "Germination Events: [26 & 18 & 5 & 4 & 1]\n",
      "Total Dormancy Percentage: [90.74 & 42.59 & 9.26 & 1.85 & 0.00]\n",
      "Percent Germinated at Exposure: [9.26 & 48.15 & 33.33 & 7.41 & 1.85]\n"
     ]
    },
    {
     "data": {
      "text/plain": [
       "<Figure size 640x480 with 0 Axes>"
      ]
     },
     "metadata": {},
     "output_type": "display_data"
    },
    {
     "data": {
      "text/plain": [
       "<Figure size 600x300 with 0 Axes>"
      ]
     },
     "metadata": {},
     "output_type": "display_data"
    }
   ],
   "source": [
    "def piechart_germination_exposure(df):\n",
    "    total_spores = len(df)\n",
    "    df = df.sort_values(by=['GERMINANT_EXPOSURES'])\n",
    "    exposures_list = df['GERMINANT_EXPOSURES'].unique()\n",
    "    value_counts = df['GERMINANT_EXPOSURES'].value_counts()\n",
    "\n",
    "    #========================GERMINANT EXPOSURE\n",
    "    ## statistics by germinant exposures\n",
    "    total_percentage_by_exposure = []\n",
    "    percentage_at_exposure = []\n",
    "\n",
    "    total_germinated = 0\n",
    "    for exposure in exposures_list:\n",
    "        \n",
    "        spores_germinated_interval = value_counts[exposure]\n",
    "        total_germinated += spores_germinated_interval\n",
    "        total_percentage_by_exposure.append(((total_spores - total_germinated) / total_spores) * 100)\n",
    "\n",
    "        percentage_at_t = (spores_germinated_interval / total_spores) * 100\n",
    "        percentage_at_exposure.append(percentage_at_t)\n",
    "\n",
    "    ### Pie chart by germinant exposures\n",
    "    labels = [f'$GE_{exposure}$ = {value_counts[exposure] / total_spores * 100 :.2f}%' for exposure in exposures_list]\n",
    "\n",
    "    plt.clf()\n",
    "    plt.figure(figsize=(6, 3))\n",
    "    colors = sns.color_palette('pastel')[0:len(percentage_at_exposure)]\n",
    "\n",
    "    explode_val = percentage_at_exposure.index(max(percentage_at_exposure))\n",
    "    explode = [0 for _ in range(len(percentage_at_exposure))]\n",
    "    explode[explode_val] = 0.1\n",
    "\n",
    "    plt.pie(percentage_at_exposure, labels=labels, shadow=True, colors=colors, wedgeprops={'edgecolor': 'black'}, startangle=140, explode=explode, pctdistance=1.00, textprops={'fontsize': 16})\n",
    "    #plt.title(\"Distribution of Germination Exposures\")\n",
    "    plt.savefig(plots_folder + \"piechart_germination_atexposure.jpg\")\n",
    "    plt.clf()\n",
    "\n",
    "    ## Print stats\n",
    "    print(\"\\n Statistics by Exposures:\")\n",
    "    print(f\"Germinant Exposures: {str(list(exposures_list)).replace(',', ' &')}\")\n",
    "    print(f\"Germination Events: {str(list(value_counts)).replace(',', ' &')}\")\n",
    "    print(f\"Total Dormancy Percentage: [{' & '.join([f'{elem:.2f}' for elem in total_percentage_by_exposure])}]\")\n",
    "    print(f\"Percent Germinated at Exposure: [{' & '.join([f'{elem:.2f}' for elem in percentage_at_exposure])}]\")\n",
    "\n",
    "piechart_germination_exposure(df)"
   ]
  },
  {
   "cell_type": "markdown",
   "metadata": {},
   "source": [
    "## Feature Analysis"
   ]
  },
  {
   "cell_type": "markdown",
   "metadata": {},
   "source": [
    "Get minimum and maximum global value of a given feature"
   ]
  },
  {
   "cell_type": "code",
   "execution_count": 12,
   "metadata": {},
   "outputs": [],
   "source": [
    "def get_min_max(df, feature: str) -> int:\n",
    "    data_max = []\n",
    "    data_min = []\n",
    "    data = df[feature].apply(ast.literal_eval) \n",
    "    for row in data:\n",
    "        data_max.append(max(row))\n",
    "        data_min.append(min(row))\n",
    "    return [min(data_min), max(data_max)]\n",
    "\n",
    "minmax_intensity: list[int, int] = get_min_max(df, \"INTENSITY\")\n",
    "minmax_area: list[int, int] = get_min_max(df, \"AREA\")\n",
    "minmax_minor: list[int, int] = get_min_max(df, \"ELLIPSE MINOR\")\n",
    "minmax_major: list[int, int] = get_min_max(df, \"ELLIPSE MAJOR\")\n",
    "minmax_perimeter: list[int, int] = get_min_max(df, \"PERIMETER\")\n",
    "minmax_circularity: list[int, int] = get_min_max(df, \"CIRCULARITY\")\n",
    "minmax_aspectratio: list[int, int] = get_min_max(df, \"ELLIPSE ASPECT RATIO\")"
   ]
  },
  {
   "cell_type": "markdown",
   "metadata": {},
   "source": [
    "Adds initial feature value, last feature value before germination, and the difference between these two in \"INITIAL_{feature}\", \"LAST_{feature}\" and \"DIFF_{feature}\" columns"
   ]
  },
  {
   "cell_type": "code",
   "execution_count": 13,
   "metadata": {},
   "outputs": [],
   "source": [
    "def add_initial_last_measure_feature(df, feature:str):\n",
    "\n",
    "  FEATURE = df[feature].apply(ast.literal_eval)\n",
    "\n",
    "  INITIAL_FEATURE_COLUMN = []\n",
    "  LAST_FEATURE_COLUMN = []\n",
    "  DIFF_FEATURE_COLUMN = []\n",
    "\n",
    "  for i in range(len(df)):\n",
    "    spore_feature = FEATURE[i]\n",
    "    spore_germination_frame = df.loc[i, \"GERMINATION_INDEX\"]\n",
    "\n",
    "    feature_before_germination: list[int] = spore_feature[0: spore_germination_frame]\n",
    "\n",
    "    initial_feature = np.mean(feature_before_germination[0: 3]) #averaged over first and last frames\n",
    "    INITIAL_FEATURE_COLUMN.append(initial_feature)\n",
    "    \n",
    "    last_feature = np.mean(feature_before_germination[-3: -1])\n",
    "    LAST_FEATURE_COLUMN.append(last_feature)\n",
    "\n",
    "    diff_feature = abs(last_feature - initial_feature)\n",
    "    DIFF_FEATURE_COLUMN.append(diff_feature)\n",
    "\n",
    "  df[f\"INITIAL_{feature}\"] = INITIAL_FEATURE_COLUMN\n",
    "  df[f\"LAST_{feature}\"] = LAST_FEATURE_COLUMN\n",
    "  df[f\"DIFF_{feature}\"] = DIFF_FEATURE_COLUMN\n",
    "\n",
    "\n",
    "add_initial_last_measure_feature(df, \"INTENSITY\")\n",
    "add_initial_last_measure_feature(df, \"AREA\")\n",
    "add_initial_last_measure_feature(df, \"ELLIPSE MINOR\")\n",
    "add_initial_last_measure_feature(df, \"ELLIPSE MAJOR\")\n",
    "add_initial_last_measure_feature(df, \"ELLIPSE ASPECT RATIO\")\n",
    "add_initial_last_measure_feature(df, \"PERIMETER\")\n",
    "add_initial_last_measure_feature(df, \"CIRCULARITY\")"
   ]
  },
  {
   "cell_type": "markdown",
   "metadata": {},
   "source": [
    "### Sample of feature behaviors over time"
   ]
  },
  {
   "cell_type": "code",
   "execution_count": 29,
   "metadata": {},
   "outputs": [
    {
     "data": {
      "text/plain": [
       "<Figure size 640x480 with 0 Axes>"
      ]
     },
     "metadata": {},
     "output_type": "display_data"
    },
    {
     "data": {
      "text/plain": [
       "<Figure size 1200x800 with 0 Axes>"
      ]
     },
     "metadata": {},
     "output_type": "display_data"
    },
    {
     "data": {
      "text/plain": [
       "<Figure size 1200x800 with 0 Axes>"
      ]
     },
     "metadata": {},
     "output_type": "display_data"
    },
    {
     "data": {
      "text/plain": [
       "<Figure size 1200x800 with 0 Axes>"
      ]
     },
     "metadata": {},
     "output_type": "display_data"
    },
    {
     "data": {
      "text/plain": [
       "<Figure size 1200x800 with 0 Axes>"
      ]
     },
     "metadata": {},
     "output_type": "display_data"
    },
    {
     "data": {
      "text/plain": [
       "<Figure size 1200x800 with 0 Axes>"
      ]
     },
     "metadata": {},
     "output_type": "display_data"
    },
    {
     "data": {
      "text/plain": [
       "<Figure size 1200x800 with 0 Axes>"
      ]
     },
     "metadata": {},
     "output_type": "display_data"
    },
    {
     "data": {
      "text/plain": [
       "<Figure size 1200x800 with 0 Axes>"
      ]
     },
     "metadata": {},
     "output_type": "display_data"
    }
   ],
   "source": [
    "def plot_feature_example(feature_column_title, feature: str, frames: list[int]):\n",
    "    FEATURE = df[feature_column_title].apply(ast.literal_eval)\n",
    "\n",
    "    #plot initializing\n",
    "    plt.clf()\n",
    "    #palette = sns.color_palette('Spectral', n_colors=len(frames))\n",
    "    palette = sns.color_palette('pastel')[0:len(frames)]\n",
    "    custom_handles = []\n",
    "    spore_labels = []\n",
    "    plt.figure(figsize=(12,8))\n",
    "\n",
    "    #germinant intervals\n",
    "    for frame in frames[0:5]:\n",
    "      plt.axvline(x = frame - 1, color='silver', linestyle='--', linewidth = 2) \n",
    "    custom_handles.append(plt.Line2D([0], [0], color='silver', linestyle='dashed', label=\"Germinant Exposure\", linewidth = 2))\n",
    "\n",
    "    #---\n",
    "    for frame in frames[:: -1]: \n",
    "      tmp = 0\n",
    "      for spore_index, feature_row in enumerate(FEATURE):\n",
    "        germination_frame = df[\"GERMINATION_INDEX\"][spore_index]\n",
    "        if germination_frame == frame:\n",
    "          tmp += 1\n",
    "          if tmp == 1:\n",
    "            frame_index = frames.index(frame)\n",
    "            colorline = palette[frame_index % len(palette)]\n",
    "            #before germination\n",
    "            sns.lineplot(x=range(germination_frame), y=feature_row[:germination_frame], linewidth=10, color = colorline, label = f\"Spore {frame_index + 1}\")#, label=f'Germinated at L-alanine Exposure {frames.index(frame) + 1}', )\n",
    "            #after germination\n",
    "            sns.lineplot(x = range(germination_frame-1, len(feature_row)), y=feature_row[germination_frame-1:], linestyle = '-', color = colorline, linewidth = 3)\n",
    "            #legend for spore labels\n",
    "            custom_handles.append(plt.Line2D([0], [0], color=colorline, lw=4, linestyle='None', marker='o', label=f\"Spore {frame_index + 1}\"))\n",
    "            spore_labels.append((f\"Spore {frame_index + 1}\", colorline))  \n",
    "            break  \n",
    "\n",
    "    #axis fonts size\n",
    "    axis_fontsize = 32\n",
    "    #plt.xlabel('Frame', fontsize=axis_fontsize) \n",
    "    #plt.ylabel(f\"{feature}\", fontsize=axis_fontsize)  \n",
    "   \n",
    "    #axis ticks and limits\n",
    "    plt.xticks(fontsize = 20)  \n",
    "    plt.yticks(fontsize = 20)\n",
    "   # plt.xlim(0, 95)\n",
    "    plt.ylim(0, 1)\n",
    "\n",
    "    #legend\n",
    "    custom_handles = custom_handles[::-1]\n",
    "    plt.legend(handles=custom_handles, loc='best', shadow = True, fontsize=20)  \n",
    "    plt.tight_layout(rect=[0, 0, 0.85, 1])  \n",
    "\n",
    "    plt.savefig(f\"{plots_folder}sample_{feature}.jpg\")\n",
    "    plt.clf()\n",
    "\n",
    "plot_feature_example(\"INTENSITY\", \"Electrochemical Potential\", sample_germination_frames)\n",
    "plot_feature_example(\"AREA\", \"Size\", sample_germination_frames)\n",
    "plot_feature_example(\"ELLIPSE MINOR\", \"Ellipse Minor\", sample_germination_frames)\n",
    "plot_feature_example(\"ELLIPSE MAJOR\", \"Ellipse Major\", sample_germination_frames)\n",
    "plot_feature_example(\"PERIMETER\", \"Perimeter\", sample_germination_frames)\n",
    "plot_feature_example(\"CIRCULARITY\", \"Circularity\", sample_germination_frames)\n",
    "plot_feature_example(\"ELLIPSE ASPECT RATIO\", \"Ellipse Aspect Ratio\", sample_germination_frames)"
   ]
  },
  {
   "cell_type": "markdown",
   "metadata": {},
   "source": [
    "### PENDING: Feature Trends"
   ]
  },
  {
   "cell_type": "code",
   "execution_count": 15,
   "metadata": {},
   "outputs": [],
   "source": [
    "def feature_trends(df, feature: str, exposures: list[int]):\n",
    "    germination_groups = df.groupby(\"GERMINANT_EXPOSURES\")\n",
    "    for germination_frame, group in germination_groups:\n",
    "        FEATURE = group[feature].apply(ast.literal_eval)\n",
    "        \n",
    "        mean_features = []\n",
    "        \n",
    "        # Calculate the maximum length of the time series to pad shorter series\n",
    "        max_length = max(FEATURE.apply(len))\n",
    "        \n",
    "        # Create an array to accumulate the sums\n",
    "        sum_features = np.zeros(max_length)\n",
    "        count_features = np.zeros(max_length)\n",
    "        \n",
    "        for row in FEATURE:\n",
    "            row_len = len(row)\n",
    "            sum_features[:row_len] += row\n",
    "            count_features[:row_len] += 1\n",
    "            plt.scatter(range(row_len), row, s = .5, color = \"lightblue\")\n",
    "        \n",
    "        mean_features = sum_features / count_features\n",
    "        \n",
    "        # Plot the mean feature trend\n",
    "        plt.plot(range(0, germination_frame), mean_features[:germination_frame])\n",
    "        plt.plot(range(germination_frame-1, len(mean_features)), mean_features[germination_frame -1:])\n",
    "        \n",
    "        plt.xlabel('Frame')\n",
    "        plt.ylabel(f'Normalized {feature.lower()}')\n",
    "        plt.title(f'{feature[0] + feature[1:].lower()} for Exposure {germination_frame}')\n",
    "        plt.legend()\n",
    "        plt.show()\n",
    "        plt.clf()\n",
    "\n",
    "#feature_trends(df, \"INTENSITY\", germinant_exposures)\n",
    "        "
   ]
  },
  {
   "cell_type": "code",
   "execution_count": 16,
   "metadata": {},
   "outputs": [
    {
     "name": "stdout",
     "output_type": "stream",
     "text": [
      "\n",
      "Spores Germinated at Exposure 1 Stats:\n",
      "Exposures: [11.0, 35.0, 59.0, 83.0, 107.0, 131.0, 155.0, 179.0, 203.0, 227.0, 251.0, 275.0, 0]\n",
      "Row Means: ['0.32', '0.51', '0.51', '0.54', '0.61', '0.65', '0.67', '0.74', '0.73', '0.78', '0.72', '0.81', '0.15']\n",
      "Differences Between Means: ['0.18', '-0.00', '0.03', '0.07', '0.04', '0.02', '0.07', '-0.02', '0.05', '-0.06', '0.10', '-0.66']\n",
      "\n",
      "Spores Germinated at Exposure 2 Stats:\n",
      "Exposures: [11.0, 35.0, 59.0, 83.0, 107.0, 131.0, 155.0, 179.0, 203.0, 227.0, 251.0, 275.0, 0]\n",
      "Row Means: ['0.23', '0.28', '0.46', '0.46', '0.50', '0.56', '0.60', '0.66', '0.64', '0.70', '0.66', '0.75', '0.10']\n",
      "Differences Between Means: ['0.05', '0.18', '-0.00', '0.05', '0.05', '0.04', '0.06', '-0.01', '0.06', '-0.04', '0.09', '-0.65']\n",
      "\n",
      "Spores Germinated at Exposure 3 Stats:\n",
      "Exposures: [11.0, 35.0, 59.0, 83.0, 107.0, 131.0, 155.0, 179.0, 203.0, 227.0, 251.0, 275.0, 0]\n",
      "Row Means: ['0.24', '0.28', '0.27', '0.46', '0.49', '0.53', '0.57', '0.63', '0.63', '0.67', '0.65', '0.72', '0.09']\n",
      "Differences Between Means: ['0.04', '-0.01', '0.18', '0.03', '0.04', '0.04', '0.07', '-0.01', '0.04', '-0.02', '0.07', '-0.63']\n",
      "\n",
      "Spores Germinated at Exposure 4 Stats:\n",
      "Exposures: [11.0, 35.0, 59.0, 83.0, 107.0, 131.0, 155.0, 179.0, 203.0, 227.0, 251.0, 275.0, 0]\n",
      "Row Means: ['0.23', '0.27', '0.24', '0.32', '0.45', '0.47', '0.49', '0.54', '0.55', '0.60', '0.56', '0.64', '0.09']\n",
      "Differences Between Means: ['0.03', '-0.03', '0.08', '0.13', '0.02', '0.02', '0.05', '0.01', '0.05', '-0.04', '0.08', '-0.55']\n"
     ]
    },
    {
     "data": {
      "image/png": "[encoded data removed]",
      "text/plain": [
       "<Figure size 640x480 with 1 Axes>"
      ]
     },
     "metadata": {},
     "output_type": "display_data"
    },
    {
     "name": "stdout",
     "output_type": "stream",
     "text": [
      "\n",
      "Spores Germinated at Exposure 1 Stats:\n",
      "Exposures: [11.0, 35.0, 59.0, 83.0, 107.0, 131.0, 155.0, 179.0, 203.0, 227.0, 251.0, 275.0, 0]\n",
      "Row Means: ['0.56', '0.66', '0.64', '0.70', '0.71', '0.72', '0.75', '0.74', '0.76', '0.76', '0.78', '0.75', '0.37']\n",
      "Differences Between Means: ['0.11', '-0.03', '0.06', '0.01', '0.01', '0.03', '-0.01', '0.03', '-0.01', '0.02', '-0.03', '-0.38']\n",
      "\n",
      "Spores Germinated at Exposure 2 Stats:\n",
      "Exposures: [11.0, 35.0, 59.0, 83.0, 107.0, 131.0, 155.0, 179.0, 203.0, 227.0, 251.0, 275.0, 0]\n",
      "Row Means: ['0.48', '0.50', '0.59', '0.64', '0.64', '0.65', '0.67', '0.67', '0.69', '0.69', '0.71', '0.70', '0.31']\n",
      "Differences Between Means: ['0.02', '0.09', '0.05', '0.01', '0.01', '0.02', '0.00', '0.02', '0.00', '0.02', '-0.02', '-0.39']\n",
      "\n",
      "Spores Germinated at Exposure 3 Stats:\n",
      "Exposures: [11.0, 35.0, 59.0, 83.0, 107.0, 131.0, 155.0, 179.0, 203.0, 227.0, 251.0, 275.0, 0]\n",
      "Row Means: ['0.54', '0.56', '0.54', '0.70', '0.70', '0.71', '0.73', '0.72', '0.74', '0.75', '0.77', '0.75', '0.34']\n",
      "Differences Between Means: ['0.02', '-0.02', '0.16', '0.00', '0.01', '0.02', '-0.01', '0.02', '0.01', '0.02', '-0.02', '-0.41']\n",
      "\n",
      "Spores Germinated at Exposure 4 Stats:\n",
      "Exposures: [11.0, 35.0, 59.0, 83.0, 107.0, 131.0, 155.0, 179.0, 203.0, 227.0, 251.0, 275.0, 0]\n",
      "Row Means: ['0.48', '0.52', '0.51', '0.55', '0.68', '0.67', '0.68', '0.71', '0.72', '0.73', '0.76', '0.73', '0.35']\n",
      "Differences Between Means: ['0.03', '-0.01', '0.04', '0.12', '-0.01', '0.02', '0.02', '0.02', '0.01', '0.03', '-0.02', '-0.39']\n"
     ]
    },
    {
     "data": {
      "image/png": "[encoded data removed]",
      "text/plain": [
       "<Figure size 640x480 with 1 Axes>"
      ]
     },
     "metadata": {},
     "output_type": "display_data"
    },
    {
     "data": {
      "text/plain": [
       "<Figure size 640x480 with 0 Axes>"
      ]
     },
     "metadata": {},
     "output_type": "display_data"
    }
   ],
   "source": [
    "def feature_trends_stats(df, feature: str, germinant_exposures: list[int]):\n",
    "  germinant_exposures.append(0)\n",
    "\n",
    "  germination_groups = df.groupby(\"GERMINANT_EXPOSURES\")\n",
    "  num_max_exposures = 0\n",
    "\n",
    "  #iterate through each group that germinates at a different exposure\n",
    "  for exposure_number, exposure_group in germination_groups:\n",
    "    if len(exposure_group) == 1:\n",
    "      continue\n",
    "\n",
    "    #get maximum number of exposure to germinate \n",
    "    num_max_exposures = max(num_max_exposures, exposure_number)\n",
    "\n",
    "\n",
    "    #array rows denote each spore value at different exposures, columns are different spores \n",
    "    array = np.zeros((len(germinant_exposures), len(exposure_group))) #row is germinant exposure, column is spore index value\n",
    "\n",
    "    #appends spore values to arrays \n",
    "    for spore_index in range(len(exposure_group)):\n",
    "        spore_feature: list[int] = exposure_group[feature].apply(ast.literal_eval).iloc[spore_index]\n",
    "        for frame_index in range(min_frames):\n",
    "          if frame_index in germinant_exposures:\n",
    "            row_index = germinant_exposures.index(frame_index)\n",
    "            array[row_index, spore_index] = spore_feature[frame_index]\n",
    "\n",
    "    row_means = np.mean(array, axis=1)\n",
    "    diff_between_means = [row_means[i] - row_means[i - 1] for i in range(1, len(row_means))]\n",
    "\n",
    "    row_medians = np.median(array, axis = 1)\n",
    "    diff_between_medians = [row_medians[i] - row_medians[i - 1] for i in range(1, len(row_medians))]\n",
    "\n",
    "    # Truncate to 2 decimal places\n",
    "    row_means_rounded = [f\"{x:.2f}\" for x in row_means]\n",
    "    diff_between_means_rounded = [f\"{x:.2f}\" for x in diff_between_means]\n",
    "\n",
    "\n",
    "\n",
    "    # Truncate to 2 decimal places\n",
    "    row_medians_rounded = [f\"{x:.2f}\" for x in row_medians]\n",
    "    diff_between_medians_rounded = [f\"{x:.2f}\" for x in diff_between_medians]\n",
    "\n",
    "    print(f\"\\nSpores Germinated at Exposure {exposure_number} Stats:\")\n",
    "    print(f\"Exposures: {germinant_exposures}\")\n",
    "    print(f\"Row Means: {row_means_rounded}\")\n",
    "    print(f\"Differences Between Means: {diff_between_means_rounded}\")\n",
    "\n",
    "    #print(f\"Row Medians: {row_medians_rounded}\")\n",
    "    #print(f\"Differences Between Medians: {diff_between_medians_rounded}\")\n",
    "    \n",
    "    plt.plot(range(len(row_means)), row_means, label = f\"Germinant Exposures: {exposure_number}\")\n",
    "\n",
    "  plt.xlim(0, num_max_exposures)\n",
    "  plt.xlabel(\"Exposures\")\n",
    "  plt.ylabel(f\"{feature[0] + feature[1:].lower()}\")\n",
    "  plt.legend()\n",
    "  plt.show()\n",
    "  plt.clf()\n",
    "\n",
    "feature_trends_stats(df, \"INTENSITY\", germinant_exposures[:])\n",
    "feature_trends_stats(df, \"AREA\", germinant_exposures[:])"
   ]
  },
  {
   "cell_type": "markdown",
   "metadata": {},
   "source": [
    "### Heatmap of Spore Features over the Population"
   ]
  },
  {
   "cell_type": "code",
   "execution_count": 17,
   "metadata": {},
   "outputs": [
    {
     "data": {
      "text/plain": [
       "<Figure size 640x480 with 0 Axes>"
      ]
     },
     "metadata": {},
     "output_type": "display_data"
    }
   ],
   "source": [
    "def plot_feature_allspores(df, feature_column_title, feature: str):\n",
    "  plt.clf()\n",
    "  exp_length = np.min(len(df[\"GERMINATION\"][:]))\n",
    "     \n",
    "\n",
    "  df = df.sort_values(by='GERMINATION_INDEX')\n",
    "  FEATURE_pre = df[feature_column_title].apply(ast.literal_eval).tolist()\n",
    "\n",
    "  FEATURE = []\n",
    "  for spore_row in FEATURE_pre:\n",
    "     FEATURE.append(spore_row[:exp_length])\n",
    "     \n",
    "  Z = np.array(FEATURE)\n",
    "\n",
    "\n",
    "  sns.heatmap(data = Z)#, cmap=plt.cm.viridis)\n",
    "  for frame in germinant_exposures:\n",
    "      plt.axvline(x=frame, color='grey', linestyle=\"dotted\", linewidth = 2)\n",
    "  plt.xlabel(\"Frame\")\n",
    "  plt.ylabel(\"Spore Index\")\n",
    "  plt.savefig(f\"{plots_folder + feature}.jpg\")\n",
    "  plt.clf()\n",
    "\n",
    "plot_feature_allspores(df, \"INTENSITY\", \"Intensity\")\n",
    "plot_feature_allspores(df, \"AREA\", \"Area\")\n",
    "plot_feature_allspores(df, \"ELLIPSE MINOR\", \"Minor\")\n",
    "plot_feature_allspores(df, \"ELLIPSE MAJOR\", \"Major\")\n",
    "plot_feature_allspores(df, \"PERIMETER\", \"Perimeter\")\n",
    "plot_feature_allspores(df, \"CIRCULARITY\", \"Circularity\")\n",
    "plot_feature_allspores(df, \"ELLIPSE ASPECT RATIO\", \"AspectRatio\")\n",
    "plot_feature_allspores(df, \"GERMINATION\", \"Germination\")"
   ]
  },
  {
   "cell_type": "markdown",
   "metadata": {},
   "source": [
    "## Feature Relationships"
   ]
  },
  {
   "cell_type": "markdown",
   "metadata": {},
   "source": [
    "### Heatmap showing Pearson Correlation Coefficient between Physiological Features"
   ]
  },
  {
   "cell_type": "code",
   "execution_count": 18,
   "metadata": {},
   "outputs": [
    {
     "data": {
      "text/plain": [
       "<Figure size 640x480 with 0 Axes>"
      ]
     },
     "metadata": {},
     "output_type": "display_data"
    },
    {
     "data": {
      "text/plain": [
       "<Figure size 1400x1300 with 0 Axes>"
      ]
     },
     "metadata": {},
     "output_type": "display_data"
    }
   ],
   "source": [
    "def feature_heatmap(df, features_list, plot_title, custom_labels, bold_labels):\n",
    "  '''takes in df in format where each row denotes a spore and each column is a feature and each cell is feature over time in a list'''\n",
    "  plt.clf()\n",
    "\n",
    "  correlation_matrices = []\n",
    "\n",
    "  for spore_index in range(len(df)):\n",
    "    spore_features = []\n",
    "    for feature in features_list:\n",
    "      spore_feature = ast.literal_eval(df.loc[spore_index, feature])\n",
    "      spore_features.append(spore_feature)\n",
    "    spore_df = pd.DataFrame(spore_features).T\n",
    "    spore_df.columns = features_list\n",
    "\n",
    "    spore_feature_correlation = spore_df.corr()\n",
    "\n",
    "    correlation_matrices.append(spore_feature_correlation)\n",
    "  \n",
    "  avg_correlation_matrix = np.mean(correlation_matrices, axis=0)\n",
    "  avg_correlation_df = pd.DataFrame(avg_correlation_matrix, index=features_list, columns=features_list)\n",
    "  avg_correlation_df.rename(columns=custom_labels, index=custom_labels, inplace=True)\n",
    "\n",
    "  # Plot the heatmap for the average correlation matrix\n",
    "  plt.figure(figsize = ((14,13)))\n",
    "  ax = sns.heatmap(avg_correlation_df, annot=True, vmin=-1, vmax=1, cmap=\"coolwarm\", \n",
    "                   xticklabels=True, yticklabels=True, annot_kws={\"size\": 15}, #numbers in heatmap\n",
    "                   cbar_kws={'label': \"$r_{F_1, F_2}$\"}, cbar = False)\n",
    "\n",
    "  ax.set_aspect('equal')\n",
    "\n",
    "  # Customize tick labels\n",
    "  tick_font_size = 24\n",
    "\n",
    "  for tick in ax.get_xticklabels():\n",
    "      if bold_labels and tick.get_text() in bold_labels:\n",
    "          tick.set_weight('bold')\n",
    "      tick.set_fontsize(tick_font_size) #labels size\n",
    "  \n",
    "  for tick in ax.get_yticklabels():\n",
    "      if bold_labels and tick.get_text() in bold_labels:\n",
    "          tick.set_weight('bold')\n",
    "      tick.set_fontsize(tick_font_size)\n",
    "  plt.yticks(rotation=0) \n",
    "  plt.xticks(rotation=90) \n",
    "\n",
    "\n",
    "      \n",
    "  #padding between labels and heatmap\n",
    "  ax.tick_params(axis='x', pad=10)\n",
    "  ax.tick_params(axis='y', pad=10)\n",
    "\n",
    "  #colorbar with the same height as the heatmap\n",
    "  divider = make_axes_locatable(ax)\n",
    "  cax = divider.append_axes(\"right\", size=\"5%\", pad=0.5)\n",
    "  cbar = plt.colorbar(ax.collections[0], cax=cax)\n",
    "\n",
    "  # Customize colorbar label size\n",
    "  cbar.ax.tick_params(labelsize=20)\n",
    "  cbar.ax.yaxis.label.set_size(30)\n",
    "  cbar.ax.yaxis.label.set_text(\"Pearson Correlation Coefficient {$r_{F_1, F_2}$}\")\n",
    "  cbar.ax.yaxis.labelpad = 15\n",
    "\n",
    "  #save\n",
    "  plt.tight_layout()\n",
    "  plt.savefig(f\"{plots_folder + plot_title}.jpg\")\n",
    "  plt.clf()\n",
    "\n",
    "  # feature heatmap call \n",
    "\n",
    "heatmap_labels = {\n",
    "  'GERMINATION': 'Germination',\n",
    "  'INTENSITY': 'Intensity',\n",
    "  \"AREA\": \"Area\",\n",
    "  \"ELLIPSE MINOR\": \"Ellipse Minor\",\n",
    "  \"ELLIPSE MAJOR\": \"Ellipse Major\",\n",
    "  \"PERIMETER\": \"Perimeter\",\n",
    "  \"CIRCULARITY\": \"Circularity\",\n",
    "  \"GERMINANT EXPOSURE\": \"Germinant Exposure\",\n",
    "  \"ELLIPSE ASPECT RATIO\": \"Ellipse Aspect Ratio\"\n",
    "  }\n",
    "features = [\"GERMINATION\", \"INTENSITY\", \"AREA\", \"ELLIPSE MINOR\", \"ELLIPSE MAJOR\", \"PERIMETER\", \"CIRCULARITY\", \"ELLIPSE ASPECT RATIO\"]\n",
    "bold_labels = [\"Intensity\", \"Area\", \"Ellipse Minor\", \"Ellipse Major\", \"Perimeter\", \"Ellipse Aspect Ratio\"]\n",
    "feature_heatmap(df, features, \"Feature Correlations over Time\", heatmap_labels, bold_labels)"
   ]
  },
  {
   "cell_type": "code",
   "execution_count": 34,
   "metadata": {},
   "outputs": [
    {
     "name": "stdout",
     "output_type": "stream",
     "text": [
      "                                        ELLIPSE MINOR  \\\n",
      "0   [0.34758772022670226, 0.4635006042157589, 0.46...   \n",
      "1   [0.32327291816114345, 0.5082751575851004, 0.52...   \n",
      "2   [0.32874036949733265, 0.5063816610494621, 0.49...   \n",
      "3   [0.004720911136500527, 0.4513097374829852, 0.4...   \n",
      "4   [0.307940936133276, 0.47305901480999635, 0.467...   \n",
      "5   [0.2844723231880264, 0.4655745607773579, 0.454...   \n",
      "6   [0.3690115399960264, 0.5168931033090037, 0.549...   \n",
      "7   [0.32683424606647626, 0.5244475035160848, 0.53...   \n",
      "8   [0.527392985729597, 0.6328913647969846, 0.6015...   \n",
      "9   [0.3291915408674505, 0.4461551832535192, 0.477...   \n",
      "10  [0.4206529222759353, 0.5039611386061903, 0.481...   \n",
      "11  [0.36731636553430824, 0.5089600250773819, 0.49...   \n",
      "12  [0.3523632568959171, 0.47084308535690933, 0.45...   \n",
      "13  [0.3111549836893778, 0.4802095465552815, 0.479...   \n",
      "14  [0.340660909832207, 0.4987513642072289, 0.5224...   \n",
      "15  [0.22729704004719353, 0.4258144530216873, 0.45...   \n",
      "16  [0.2754509066471853, 0.4733471402764283, 0.484...   \n",
      "17  [0.3010987790096965, 0.4698686646004918, 0.519...   \n",
      "18  [0.23558757344829961, 0.4481331991234935, 0.48...   \n",
      "19  [0.40396075189294167, 0.4954200270172563, 0.52...   \n",
      "20  [0.3136731192949568, 0.5279388391665708, 0.517...   \n",
      "21  [0.37786051630928374, 0.5189706622441085, 0.51...   \n",
      "22  [0.23899809894598678, 0.4265247594526739, 0.40...   \n",
      "23  [0.21546635768857014, 0.4734910757681975, 0.51...   \n",
      "24  [0.34640033186478425, 0.5260281853036696, 0.51...   \n",
      "25  [0.3207503661475025, 0.4549261399197936, 0.452...   \n",
      "26  [0.20301865510185435, 0.43049754836946674, 0.4...   \n",
      "27  [0.31587145769312397, 0.47655973852387434, 0.4...   \n",
      "28  [0.42627884525158344, 0.5438208400621586, 0.54...   \n",
      "29  [0.40779245796534724, 0.490689337562923, 0.471...   \n",
      "30  [0.39651834761381266, 0.5048973009630416, 0.54...   \n",
      "31  [0.27244440063334185, 0.44121281133766155, 0.4...   \n",
      "32  [0.4412182922414202, 0.5321878317701644, 0.506...   \n",
      "33  [0.31260622491829604, 0.4765282334562123, 0.52...   \n",
      "34  [0.29860905100376545, 0.44397940533649705, 0.4...   \n",
      "35  [0.3624622349000931, 0.5456839464193711, 0.481...   \n",
      "36  [0.19221212769195806, 0.4426248051532945, 0.44...   \n",
      "37  [0.2516450217168337, 0.47312949981075125, 0.48...   \n",
      "38  [0.39378197562656936, 0.4907624713672597, 0.49...   \n",
      "39  [0.3590169911972393, 0.5251036947324129, 0.512...   \n",
      "40  [0.4002604307684906, 0.526883902641533, 0.5374...   \n",
      "41  [0.3097171150238932, 0.5530132622093126, 0.549...   \n",
      "42  [0.1620495641908709, 0.38699212925136994, 0.38...   \n",
      "43  [0.10128088578089811, 0.3504059793894977, 0.35...   \n",
      "44  [0.27945138708679584, 0.595013679483548, 0.508...   \n",
      "45  [0.38587594410474313, 0.5103515176432319, 0.47...   \n",
      "46  [0.39018561465781876, 0.5190809450156734, 0.51...   \n",
      "47  [0.33441225426530685, 0.46581802797959526, 0.4...   \n",
      "48  [0.361068907789048, 0.4869030071616739, 0.5083...   \n",
      "49  [0.3771650917821866, 0.5080953686432667, 0.499...   \n",
      "50  [0.34565937188051044, 0.5141593704292545, 0.50...   \n",
      "51  [0.2133931122919226, 0.4688379308652927, 0.441...   \n",
      "52  [0.28397984827788025, 0.47596250233233917, 0.4...   \n",
      "53  [0.34855900001627893, 0.47559212839749165, 0.4...   \n",
      "\n",
      "                                                 AREA  \\\n",
      "0   [0.35377358490566035, 0.45872641509433965, 0.4...   \n",
      "1   [0.26533018867924535, 0.3832547169811321, 0.43...   \n",
      "2   [0.3466981132075472, 0.5176886792452831, 0.494...   \n",
      "3   [0.0, 0.39150943396226423, 0.37264150943396224...   \n",
      "4   [0.38915094339622647, 0.4952830188679247, 0.50...   \n",
      "5   [0.3242924528301887, 0.45872641509433965, 0.45...   \n",
      "6   [0.377358490566038, 0.5341981132075475, 0.5306...   \n",
      "7   [0.3136792452830188, 0.48938679245283023, 0.49...   \n",
      "8   [0.4952830188679245, 0.6191037735849054, 0.597...   \n",
      "9   [0.38561320754716977, 0.48938679245283023, 0.5...   \n",
      "10  [0.41273584905660377, 0.4964622641509433, 0.47...   \n",
      "11  [0.3679245283018868, 0.5306603773584905, 0.505...   \n",
      "12  [0.3596698113207547, 0.4846698113207547, 0.456...   \n",
      "13  [0.3195754716981132, 0.49410377358490565, 0.48...   \n",
      "14  [0.3466981132075472, 0.5200471698113207, 0.518...   \n",
      "15  [0.24882075471698112, 0.4575471698113207, 0.46...   \n",
      "16  [0.3360849056603774, 0.5235849056603773, 0.525...   \n",
      "17  [0.32665094339622647, 0.5094339622641509, 0.50...   \n",
      "18  [0.30188679245283023, 0.5117924528301887, 0.52...   \n",
      "19  [0.39268867924528306, 0.4988207547169812, 0.50...   \n",
      "20  [0.38797169811320753, 0.5389150943396226, 0.53...   \n",
      "21  [0.4363207547169812, 0.5896226415094337, 0.583...   \n",
      "22  [0.3007075471698113, 0.5117924528301887, 0.488...   \n",
      "23  [0.2181603773584906, 0.4681603773584906, 0.476...   \n",
      "24  [0.33372641509433965, 0.5094339622641512, 0.51...   \n",
      "25  [0.35259433962264153, 0.4492924528301887, 0.46...   \n",
      "26  [0.23349056603773588, 0.4410377358490566, 0.43...   \n",
      "27  [0.34198113207547165, 0.4964622641509434, 0.49...   \n",
      "28  [0.4221698113207547, 0.5955188679245282, 0.591...   \n",
      "29  [0.3714622641509434, 0.47523584905660377, 0.47...   \n",
      "30  [0.35377358490566035, 0.5188679245283021, 0.52...   \n",
      "31  [0.205188679245283, 0.36910377358490565, 0.370...   \n",
      "32  [0.464622641509434, 0.5601415094339622, 0.5566...   \n",
      "33  [0.2641509433962264, 0.472877358490566, 0.4811...   \n",
      "34  [0.3313679245283019, 0.4799528301886793, 0.483...   \n",
      "35  [0.37735849056603776, 0.4917452830188679, 0.46...   \n",
      "36  [0.267688679245283, 0.4528301886792453, 0.4540...   \n",
      "37  [0.27476415094339623, 0.4422169811320754, 0.44...   \n",
      "38  [0.2818396226415094, 0.35023584905660377, 0.33...   \n",
      "39  [0.29481132075471694, 0.4858490566037734, 0.47...   \n",
      "40  [0.44693396226415105, 0.5695754716981132, 0.57...   \n",
      "41  [0.35731132075471694, 0.581367924528302, 0.602...   \n",
      "42  [0.23349056603773594, 0.43160377358490565, 0.3...   \n",
      "43  [0.02358490566037738, 0.18749999999999994, 0.1...   \n",
      "44  [0.39504716981132093, 0.6568396226415096, 0.64...   \n",
      "45  [0.3915094339622641, 0.48231132075471694, 0.48...   \n",
      "46  [0.4033018867924528, 0.5106132075471698, 0.516...   \n",
      "47  [0.40448113207547154, 0.5082547169811321, 0.51...   \n",
      "48  [0.4068396226415094, 0.5731132075471698, 0.573...   \n",
      "49  [0.40094339622641506, 0.4917452830188679, 0.49...   \n",
      "50  [0.35259433962264153, 0.5070754716981133, 0.49...   \n",
      "51  [0.17924528301886794, 0.4457547169811322, 0.43...   \n",
      "52  [0.2511792452830189, 0.40801886792452835, 0.40...   \n",
      "53  [0.2535377358490566, 0.4386792452830186, 0.443...   \n",
      "\n",
      "                                            PERIMETER  \\\n",
      "0   [0.4497479818298843, 0.4396708321653401, 0.426...   \n",
      "1   [0.298381544636959, 0.36726816209328395, 0.428...   \n",
      "2   [0.4518587287865655, 0.5225571988752039, 0.503...   \n",
      "3   [0.06607985992800636, 0.3908790232743614, 0.34...   \n",
      "4   [0.4343692427314415, 0.4790415544997614, 0.487...   \n",
      "5   [0.3977500964238453, 0.4493030779905275, 0.447...   \n",
      "6   [0.40362086490225224, 0.5695790406637126, 0.50...   \n",
      "7   [0.3292206854914149, 0.4590571616811695, 0.470...   \n",
      "8   [0.5225617385496623, 0.5730509114247563, 0.573...   \n",
      "9   [0.46575936976520904, 0.48242391231614923, 0.5...   \n",
      "10  [0.4435382724724978, 0.5045661065487791, 0.483...   \n",
      "11  [0.43829579255032625, 0.5271164902704552, 0.53...   \n",
      "12  [0.3889706398527427, 0.48220848463318255, 0.44...   \n",
      "13  [0.3533294415618916, 0.4800514877147569, 0.481...   \n",
      "14  [0.40371259880137866, 0.5142012016616962, 0.52...   \n",
      "15  [0.3679934931591423, 0.4674302024943481, 0.487...   \n",
      "16  [0.4507591677212074, 0.5394213916152587, 0.535...   \n",
      "17  [0.34928248268717865, 0.4978769139851288, 0.50...   \n",
      "18  [0.39220254639538343, 0.5341113212487704, 0.51...   \n",
      "19  [0.41515071935263903, 0.5028783545282055, 0.48...   \n",
      "20  [0.3988498849356351, 0.5141164765236915, 0.511...   \n",
      "21  [0.4560913286908449, 0.5791794032831358, 0.574...   \n",
      "22  [0.39254907343341683, 0.554214566709225, 0.516...   \n",
      "23  [0.4187538543059214, 0.4494266011560518, 0.450...   \n",
      "24  [0.44071155268579376, 0.4971697201606212, 0.50...   \n",
      "25  [0.3675057804171805, 0.4318583119792848, 0.454...   \n",
      "26  [0.377100684553774, 0.45868142442459614, 0.452...   \n",
      "27  [0.4173843086695862, 0.5092880914608974, 0.538...   \n",
      "28  [0.4590424778850267, 0.6097160802476652, 0.578...   \n",
      "29  [0.3403131390896831, 0.4642539521450558, 0.470...   \n",
      "30  [0.41037736353628385, 0.5094707265573734, 0.49...   \n",
      "31  [0.22480860279497017, 0.34280641716482896, 0.3...   \n",
      "32  [0.4933054094712025, 0.5532168593122965, 0.549...   \n",
      "33  [0.4359416468258973, 0.45411731664910737, 0.46...   \n",
      "34  [0.46678695280293037, 0.47102699998433606, 0.4...   \n",
      "35  [0.39503283358276964, 0.4537002873992996, 0.45...   \n",
      "36  [0.7829443472598162, 0.4624304118084307, 0.443...   \n",
      "37  [0.40486360437677915, 0.4113204888465841, 0.40...   \n",
      "38  [0.32374840110970327, 0.3309950669444933, 0.34...   \n",
      "39  [0.3393944727998607, 0.4909601975659358, 0.485...   \n",
      "40  [0.5517746453033595, 0.5790762987357062, 0.560...   \n",
      "41  [0.7529836742760477, 0.5486804951751575, 0.583...   \n",
      "42  [0.4402296639941138, 0.5288144191329941, 0.496...   \n",
      "43  [0.006504233736888687, 0.19926203460577108, 0....   \n",
      "44  [0.9873762112612071, 0.7843003639627489, 0.794...   \n",
      "45  [0.44189892750360815, 0.46184415022727776, 0.4...   \n",
      "46  [0.43077441470442535, 0.5317100609205644, 0.49...   \n",
      "47  [0.4701071405881826, 0.5228673309121111, 0.551...   \n",
      "48  [0.43128105082092894, 0.577147741354037, 0.586...   \n",
      "49  [0.40032410896098025, 0.4499228440046049, 0.45...   \n",
      "50  [0.34458427699155403, 0.4821271669821757, 0.46...   \n",
      "51  [0.25855088741361276, 0.4303798316534798, 0.43...   \n",
      "52  [0.23501366360195652, 0.4217744306270038, 0.39...   \n",
      "53  [0.2987165123689307, 0.40962442074032646, 0.42...   \n",
      "\n",
      "                                            INTENSITY  \n",
      "0   [0.11745131524725472, 0.2227510150296944, 0.22...  \n",
      "1   [0.0674258928553394, 0.2094916664740285, 0.195...  \n",
      "2   [0.05271388612774219, 0.1765122156194982, 0.20...  \n",
      "3   [0.0, 0.11851051004059626, 0.10764816569962321...  \n",
      "4   [0.11164769046580969, 0.22634956030280573, 0.2...  \n",
      "5   [0.10351302919323446, 0.25644722137937426, 0.2...  \n",
      "6   [0.16483440275021222, 0.3076702982954358, 0.31...  \n",
      "7   [0.05850318947928085, 0.20179939434568528, 0.1...  \n",
      "8   [0.3211730220850283, 0.5037867478298099, 0.518...  \n",
      "9   [0.10790495538769462, 0.23464139622895674, 0.2...  \n",
      "10  [0.13398819872678058, 0.2788633808774471, 0.25...  \n",
      "11  [0.043996065707751275, 0.15239179027939165, 0....  \n",
      "12  [0.117883597184684, 0.2213509979146987, 0.2119...  \n",
      "13  [0.09827100171427672, 0.20927850407885118, 0.1...  \n",
      "14  [0.06684700154497392, 0.22320388643003597, 0.2...  \n",
      "15  [0.0982266332936092, 0.2085260218151217, 0.189...  \n",
      "16  [0.09183445448731287, 0.2326584814352538, 0.21...  \n",
      "17  [0.0762831095143845, 0.17358447742876432, 0.17...  \n",
      "18  [0.07803110361571503, 0.1829004443602637, 0.16...  \n",
      "19  [0.13922047346305882, 0.2580904419017894, 0.25...  \n",
      "20  [0.1541392009132826, 0.2568864282577036, 0.247...  \n",
      "21  [0.11478162069156495, 0.2681312646850077, 0.26...  \n",
      "22  [0.05096793540785083, 0.1600636670925653, 0.13...  \n",
      "23  [0.04075415020651857, 0.14989580123797186, 0.1...  \n",
      "24  [0.11620703206269217, 0.24930091179459712, 0.2...  \n",
      "25  [0.09520315870970086, 0.23418076081081152, 0.2...  \n",
      "26  [0.08618004345916458, 0.206077571775107, 0.190...  \n",
      "27  [0.10536671160696864, 0.1950166135188175, 0.19...  \n",
      "28  [0.1108488127605537, 0.25367336222927905, 0.24...  \n",
      "29  [0.13422742088351558, 0.22734372413052006, 0.2...  \n",
      "30  [0.09718893863233768, 0.2607419053515173, 0.24...  \n",
      "31  [0.11883263611240652, 0.1901069999231933, 0.17...  \n",
      "32  [0.16804858626189806, 0.29580083539537627, 0.3...  \n",
      "33  [0.047439236067488344, 0.13846164564060942, 0....  \n",
      "34  [0.11117637308777956, 0.23480894149194387, 0.2...  \n",
      "35  [0.14643969221825032, 0.22684019510390896, 0.2...  \n",
      "36  [0.00048136871892007216, 0.10819141985665287, ...  \n",
      "37  [0.06951881194004222, 0.16307875022339813, 0.1...  \n",
      "38  [0.09454505486261555, 0.20144648382957098, 0.1...  \n",
      "39  [0.048266128307275835, 0.17992279063316308, 0....  \n",
      "40  [0.11973210582948607, 0.25967263624745307, 0.2...  \n",
      "41  [0.08500761141716368, 0.23473271852384814, 0.2...  \n",
      "42  [0.028982408284981165, 0.1992447914834511, 0.1...  \n",
      "43  [0.0164195025806404, 0.22572983792560009, 0.21...  \n",
      "44  [0.030347582783933846, 0.2137010401901831, 0.2...  \n",
      "45  [0.13964856957544947, 0.2806557916014908, 0.25...  \n",
      "46  [0.14313431489965722, 0.28099407246226593, 0.2...  \n",
      "47  [0.09309368276292818, 0.21827362401578188, 0.2...  \n",
      "48  [0.10322403248000722, 0.19742134584710702, 0.1...  \n",
      "49  [0.15467616828027375, 0.27293927275249086, 0.2...  \n",
      "50  [0.11744065154599542, 0.26534758107612266, 0.2...  \n",
      "51  [0.027923183478185842, 0.15003622277747386, 0....  \n",
      "52  [0.13038399886810087, 0.2575370903738229, 0.24...  \n",
      "53  [0.12205690611185033, 0.24709573234966797, 0.2...  \n"
     ]
    }
   ],
   "source": [
    "def size_stats_relationship(df, input_features):\n",
    "  df_fts = df[input_features]\n",
    "  print(df_fts)\n",
    "    \n",
    "size_stats_relationship(df, [\"ELLIPSE MINOR\", \"AREA\", \"PERIMETER\", \"INTENSITY\"])"
   ]
  }
 ],
 "metadata": {
  "kernelspec": {
   "display_name": "Python 3",
   "language": "python",
   "name": "python3"
  },
  "language_info": {
   "codemirror_mode": {
    "name": "ipython",
    "version": 3
   },
   "file_extension": ".py",
   "mimetype": "text/x-python",
   "name": "python",
   "nbconvert_exporter": "python",
   "pygments_lexer": "ipython3",
   "version": "3.9.6"
  }
 },
 "nbformat": 4,
 "nbformat_minor": 2
}
