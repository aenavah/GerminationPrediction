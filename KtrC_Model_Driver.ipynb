{
 "cells": [
  {
   "cell_type": "code",
   "execution_count": null,
   "metadata": {},
   "outputs": [],
   "source": [
    "#libraries\n",
    "import numpy as np \n",
    "import matplotlib.pyplot as plt\n",
    "import seaborn as sns\n",
    "import pandas as pd\n",
    "import Preliminary_LSTM as LSTM"
   ]
  },
  {
   "cell_type": "code",
   "execution_count": 5,
   "metadata": {},
   "outputs": [],
   "source": [
    "#Parameters--\n",
    "model_file = \"/Users/alexandranava/Desktop/Spores/GerminationPrediction/ktrc_initial_0_final.h5\"\n",
    "#model_file = None\n",
    "df_test = pd.read_csv(f\"/Users/alexandranava/Desktop/Spores/M4581_s7/PostProcess_V4/M4581_s7_Model_Data_V2.csv\") # 107\n",
    "\n",
    "df_train = pd.read_csv(f\"/Users/alexandranava/Desktop/Spores/M4576_s7/PostProcess_V2/M4576_s7_Model_Data_V2.csv\") # 135\n",
    "input_cols = ['INTENSITY','AREA','GERMINANT_EXPOSURE','ELLIPSE_MINOR', \"PERIMETER\", 'GERMINATION']\n",
    "experiment_type = \"ktrc\"\n",
    "lookback = 1\n",
    "show_plots = 0"
   ]
  },
  {
   "cell_type": "code",
   "execution_count": null,
   "metadata": {},
   "outputs": [],
   "source": [
    "#No Analysis \n",
    "#LSTM.Main(experiment_type, lookback, input_cols, df_train, df_test, model_file)"
   ]
  },
  {
   "cell_type": "code",
   "execution_count": null,
   "metadata": {},
   "outputs": [],
   "source": [
    "# Temporal Sensitivity Analysis\n",
    "ranges = [[0, 3], [0, 10],[-10, 0], [-3, 0]]\n",
    "temporal_std_scalers = [1]\n",
    "temporal_fts = [\"PERIMETER\", \"AREA\", \"ELLIPSE_MINOR\", \"INTENSITY\"]\n",
    "analysis_method = \"temporal_sensitivity\"\n",
    "\n",
    "for i in range(3):\n",
    "  for trange in ranges:\n",
    "    for scaler in temporal_std_scalers:\n",
    "      \n",
    "      parameters = [temporal_fts, trange, scaler]\n",
    "      LSTM.Main(experiment_type, lookback, input_cols, df_train, df_test, model_file, analysis_method, parameters)"
   ]
  },
  {
   "cell_type": "code",
   "execution_count": null,
   "metadata": {},
   "outputs": [],
   "source": [
    "#Local Sensitivity Analysis\n",
    "\n",
    "analysis_method = \"local_sensitivity\"\n",
    "\n",
    "for i in range(4):\n",
    "  for feature in [[\"AREA\"], [\"PERIMETER\"], [\"INTENSITY\"], [\"ELLIPSE_MINOR\"]]:\n",
    "    for scale_factor in [0.1, 0.5, 1.0]:\n",
    "      df_test = pd.read_csv(f\"/Users/alexandranava/Desktop/Spores/M4581_s7/PostProcess_V4/M4581_s7_Model_Data_V2.csv\") # 107\n",
    "      df_train = pd.read_csv(f\"/Users/alexandranava/Desktop/Spores/M4576_s7/PostProcess_V2/M4576_s7_Model_Data_V2.csv\") # 135\n",
    "      parameters = [feature, scale_factor]\n",
    "      LSTM.Main(experiment_type, lookback, input_cols, df_train, df_test, model_file, analysis_method, parameters)"
   ]
  }
 ],
 "metadata": {
  "kernelspec": {
   "display_name": "Python 3",
   "language": "python",
   "name": "python3"
  },
  "language_info": {
   "codemirror_mode": {
    "name": "ipython",
    "version": 3
   },
   "file_extension": ".py",
   "mimetype": "text/x-python",
   "name": "python",
   "nbconvert_exporter": "python",
   "pygments_lexer": "ipython3",
   "version": "3.9.6"
  }
 },
 "nbformat": 4,
 "nbformat_minor": 2
}
