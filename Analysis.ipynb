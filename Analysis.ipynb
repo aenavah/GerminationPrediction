{
 "cells": [
  {
   "cell_type": "code",
   "execution_count": 351,
   "metadata": {},
   "outputs": [],
   "source": [
    "import numpy as np\n",
    "import matplotlib.pyplot as plt\n",
    "import pandas as pd\n",
    "from collections import Counter\n",
    "import ast \n",
    "import seaborn as sns"
   ]
  },
  {
   "cell_type": "markdown",
   "metadata": {},
   "source": [
    "### Histogram for Germination Frame Frequency"
   ]
  },
  {
   "cell_type": "code",
   "execution_count": 352,
   "metadata": {},
   "outputs": [],
   "source": [
    "def germination_frequency(plots_folder: str, GERMINATION: list, output: int = 1) -> None:\n",
    "  '''\n",
    "  output denotes whether to output produced dictionary and plot to jupyter notebooks, shown by default\n",
    "\n",
    "  creates a dictionary with germination frames as a key, and frequency as a value\n",
    "  these frequencies are printed in the function\n",
    "  a histogram plot is also produced\n",
    "  '''\n",
    "  germination_frames_list = GERMINATION.apply(lambda x: x.index(1)) #list of germination frames as indices\n",
    "\n",
    "  #print times frame germination occurs\n",
    "  frame_counts = Counter(germination_frames_list)\n",
    "  sorted_frame_counts = sorted(frame_counts.items())\n",
    "  for frame_number, count in sorted_frame_counts:\n",
    "      if output == 1:\n",
    "        print(f\"Frame: {frame_number}, Frequency: {count}\")\n",
    "      \n",
    "  #histogram plot \n",
    "  plt.hist(germination_frames_list, bins=289, color='pink', edgecolor='black')\n",
    "  plt.title(\"Germination Times\")\n",
    "  plt.xlabel(\"Frame Number\")\n",
    "  plt.ylabel(\"Frequency\")\n",
    "  plt.grid()\n",
    "  plt.savefig(plots_folder + \"germination_frequency.jpg\")\n",
    "\n",
    "  if output != 1:\n",
    "    plt.close()\n",
    "  return "
   ]
  },
  {
   "cell_type": "markdown",
   "metadata": {},
   "source": [
    "### Descriptive Statistics"
   ]
  },
  {
   "cell_type": "code",
   "execution_count": 353,
   "metadata": {},
   "outputs": [],
   "source": [
    "def group_by_germination(df, feature_str: list[str]):\n",
    "  ''' \n",
    "  Takes in original data frame and list of features to analyze and group together\n",
    "  returns grouped data\n",
    "  '''\n",
    "  data_stats = df.copy()\n",
    "\n",
    "  for feature in feature_str:\n",
    "    data_stats[feature] = data_stats[feature].apply(ast.literal_eval)\n",
    "\n",
    "  data_stats['Germination Frame'] = data_stats['GERMINATION'].apply(lambda x: x.index(1)) #get germination frame where first \"1\" occurs \n",
    "  grouped_data = data_stats.groupby(\"Germination Frame\")\n",
    "\n",
    "  return grouped_data, data_stats"
   ]
  },
  {
   "cell_type": "markdown",
   "metadata": {},
   "source": [
    "### Box Plots"
   ]
  },
  {
   "cell_type": "code",
   "execution_count": 354,
   "metadata": {},
   "outputs": [],
   "source": [
    "def get_max(df, feature: str) -> int:\n",
    "    data_max = []\n",
    "    data = df[feature].apply(ast.literal_eval) \n",
    "    for row in data:\n",
    "        data_max.append(max(row))\n",
    "    return max(data_max)\n",
    "\n",
    "\n",
    "def box_plot_statistics(germ_time, data, column: str, feature: str, max_feature: int, show_plot = 1):\n",
    "    aligned_data = [pd.Series(data) for data in data[column]]\n",
    "    aligned_df = pd.DataFrame(aligned_data)\n",
    "    melted_aligned_df = aligned_df.melt(var_name='Frame', value_name=feature) #long format\n",
    "    \n",
    "    # plotting\n",
    "    plt.figure(figsize=(8, 4))\n",
    "    sns.boxplot(x='Frame', y=feature, data=melted_aligned_df)\n",
    "    plt.axvline(x=germ_time, color='red', linestyle='--', label=f'Germination Frame {germ_time}')\n",
    "    plt.title(f'{feature} Statistics for Spores Germinated at Frame {germ_time}')\n",
    "    plt.xlabel('Frame')\n",
    "    plt.xticks([0, 50, 100, 150, 200, 150, 200, 250])\n",
    "    plt.ylabel(feature)\n",
    "    plt.ylim(0, max_feature)\n",
    "    plt.legend()\n",
    "    plt.savefig(f\"{plots_folder}  {feature} _boxplot_ + {germ_time} .jpg\")\n",
    "    \n",
    "    if show_plot != 1:\n",
    "        plt.close()"
   ]
  },
  {
   "cell_type": "markdown",
   "metadata": {},
   "source": [
    "### Spatial"
   ]
  },
  {
   "cell_type": "code",
   "execution_count": 355,
   "metadata": {},
   "outputs": [],
   "source": [
    "def plot_xy_germinationframe(df, show_plot = 1):  \n",
    "  plt.figure(figsize=(12, 8))\n",
    "  #plot\n",
    "  scatter = plt.scatter(df['X_POSITION'], df['Y_POSITION'], c = df['Germination Frame'], cmap = 'gist_ncar', edgecolor='black', s=100)\n",
    "  plt.colorbar(scatter, label='Germination Frame')\n",
    "  plt.xlabel('X')\n",
    "  plt.ylabel('Y')\n",
    "\n",
    "  plt.gca().invert_yaxis()\n",
    "  plt.title('Spores by Germination Frame')\n",
    "  plt.grid(True)\n",
    "  plt.savefig(f\"{plots_folder}germinationframe_location.jpg\")\n",
    "\n",
    "  if show_plot != 1:\n",
    "    plt.close()\n",
    "  ###VALIDATE THIS overlay on tiff"
   ]
  },
  {
   "cell_type": "markdown",
   "metadata": {},
   "source": [
    "### Signal Summation"
   ]
  },
  {
   "cell_type": "code",
   "execution_count": 356,
   "metadata": {},
   "outputs": [],
   "source": [
    "\n",
    "\n",
    "def total_signal(df, INTENSITY, GERMINATION):\n",
    "  germination_totalintensity = []\n",
    "\n",
    "  df['Germination Frame'] = GERMINATION.apply(lambda x: x.index(1)) #get germination frame where first \"1\" occurs \n",
    "  #Germination_frame_column_index = df.loc[\"Germination Frame\"]\n",
    "  print(df.columns)\n",
    "  for i in range(len(df)):\n",
    "    spore_intensities = INTENSITY[i]\n",
    "    spore_germination_frame = df.loc[i, \"Germination Frame\"]\n",
    "    intensities_before_germination = spore_intensities[0:spore_germination_frame]\n",
    "    itensities_before_germination_np = np.array(intensities_before_germination)\n",
    "    total_intensity = np.sum(intensities_before_germination)\n",
    "    germination_totalintensity.append(np.array([spore_germination_frame, total_intensity]))\n",
    "\n",
    "  germination_totalintensity_np = np.array(germination_totalintensity)\n",
    "\n",
    "  plt.scatter(germination_totalintensity_np[:, 0], germination_totalintensity_np[:, 1])\n",
    "  plt.xlabel(\"Germination Frame\")\n",
    "  plt.ylabel(\"Sum Intensity\")\n",
    "  \n",
    "\n",
    "    \n",
    "  \n",
    "\n"
   ]
  },
  {
   "cell_type": "markdown",
   "metadata": {},
   "source": [
    "### Main "
   ]
  },
  {
   "cell_type": "code",
   "execution_count": 357,
   "metadata": {},
   "outputs": [],
   "source": [
    "def Main(csv_path, plots_folder):\n",
    "  df = pd.read_csv(csv_path)\n",
    "  print(f\"data has columns {list(df.columns)}...\")\n",
    "\n",
    "  # turning model data into lists\n",
    "  INTENSITY: list[list] = df[\"INTENSITY\"].apply(ast.literal_eval) \n",
    "  AREA: list[list] = df[\"AREA\"].apply(ast.literal_eval)\n",
    "  GERMINATION: list[list] = df[\"GERMINATION\"].apply(ast.literal_eval)\n",
    "\n",
    "  # germination frequency \n",
    "  germination_frequency(plots_folder, GERMINATION, 0)\n",
    "\n",
    "  # group data by germination frame\n",
    "  groups, data_stats = group_by_germination(df, [\"INTENSITY\", \"AREA\", \"GERMINATION\"])\n",
    "\n",
    "  # used for plot limits \n",
    "  max_intensity = get_max(df, \"INTENSITY\")\n",
    "  max_area = get_max(df, \"AREA\")\n",
    "\n",
    "  # iterate through groups\n",
    "  for name, group in groups: # name is germination frames, and groups is data \n",
    "    box_plot_statistics(name, group, \"INTENSITY\", \"Intensity\", max_intensity, 0)\n",
    "    box_plot_statistics(name, group, \"AREA\", \"Area\", max_intensity, 0)\n",
    "    break \n",
    "\n",
    "  #plot x, y, and germination frame  \n",
    "  plot_xy_germinationframe(data_stats, 0)  \n",
    "  total_signal(df, INTENSITY, GERMINATION)\n"
   ]
  },
  {
   "cell_type": "code",
   "execution_count": 358,
   "metadata": {},
   "outputs": [
    {
     "name": "stdout",
     "output_type": "stream",
     "text": [
      "data has columns ['Unnamed: 0', 'INTENSITY', 'AREA', 'GERMINANT EXPOSURE', 'GERMINATION', 'X_POSITION', 'Y_POSITION']...\n",
      "Index(['Unnamed: 0', 'INTENSITY', 'AREA', 'GERMINANT EXPOSURE', 'GERMINATION',\n",
      "       'X_POSITION', 'Y_POSITION', 'Germination Frame'],\n",
      "      dtype='object')\n"
     ]
    },
    {
     "data": {
      "image/png": "[encoded data removed]",
      "text/plain": [
       "<Figure size 640x480 with 1 Axes>"
      ]
     },
     "metadata": {},
     "output_type": "display_data"
    }
   ],
   "source": [
    "if __name__ == \"__main__\":\n",
    "  csv_path = \"/Users/alexandranava/Desktop/Spores/M4581_s1/Analysis/V3/Model_Data.csv\"\n",
    "  plots_folder = \"/Users/alexandranava/Desktop/Spores/M4581_s1/Analysis/V3/Plots/\"\n",
    "\n",
    "  Main(csv_path, plots_folder)"
   ]
  }
 ],
 "metadata": {
  "kernelspec": {
   "display_name": "Python 3",
   "language": "python",
   "name": "python3"
  },
  "language_info": {
   "codemirror_mode": {
    "name": "ipython",
    "version": 3
   },
   "file_extension": ".py",
   "mimetype": "text/x-python",
   "name": "python",
   "nbconvert_exporter": "python",
   "pygments_lexer": "ipython3",
   "version": "3.9.6"
  }
 },
 "nbformat": 4,
 "nbformat_minor": 2
}
