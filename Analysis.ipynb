{
 "cells": [
  {
   "cell_type": "code",
   "execution_count": 69,
   "metadata": {},
   "outputs": [],
   "source": [
    "import numpy as np\n",
    "import matplotlib.pyplot as plt\n",
    "import pandas as pd\n",
    "from collections import Counter\n",
    "import ast \n",
    "import seaborn as sns"
   ]
  },
  {
   "cell_type": "markdown",
   "metadata": {},
   "source": [
    "### Histogram for Germination Frame Frequency"
   ]
  },
  {
   "cell_type": "code",
   "execution_count": 70,
   "metadata": {},
   "outputs": [],
   "source": [
    "def germination_frequency(plots_folder: str, GERMINATION: list, output: int = 1) -> None:\n",
    "  '''\n",
    "  output denotes whether to output produced dictionary and plot to jupyter notebooks, shown by default\n",
    "\n",
    "  creates a dictionary with germination frames as a key, and frequency as a value\n",
    "  these frequencies are printed in the function\n",
    "  a histogram plot is also produced\n",
    "  '''\n",
    "  germination_frames_list = GERMINATION.apply(lambda x: x.index(1)) #list of germination frames as indices\n",
    "\n",
    "  #print times frame germination occurs\n",
    "  frame_counts = Counter(germination_frames_list)\n",
    "  sorted_frame_counts = sorted(frame_counts.items())\n",
    "  for frame_number, count in sorted_frame_counts:\n",
    "      if output == 1:\n",
    "        print(f\"Frame: {frame_number}, Frequency: {count}\")\n",
    "      \n",
    "  #histogram plot \n",
    "  plt.hist(germination_frames_list, bins=289, color='pink', edgecolor='black')\n",
    "  plt.title(\"Germination Times\")\n",
    "  plt.xlabel(\"Frame Number\")\n",
    "  plt.ylabel(\"Frequency\")\n",
    "  plt.grid()\n",
    "  plt.savefig(plots_folder + \"germination_frequency.jpg\")\n",
    "\n",
    "  if output != 1:\n",
    "    plt.close()\n",
    "  return "
   ]
  },
  {
   "cell_type": "markdown",
   "metadata": {},
   "source": [
    "### Descriptive Statistics"
   ]
  },
  {
   "cell_type": "code",
   "execution_count": 71,
   "metadata": {},
   "outputs": [],
   "source": [
    "def group_by_germination(df, feature_str: list[str]):\n",
    "  ''' \n",
    "  Takes in original data frame and list of features to analyze and group together\n",
    "  returns grouped data\n",
    "  '''\n",
    "  data_stats = df.copy()\n",
    "\n",
    "  for feature in feature_str:\n",
    "    data_stats[feature] = data_stats[feature].apply(ast.literal_eval)\n",
    "\n",
    "  data_stats['Germination Frame'] = data_stats['GERMINATION'].apply(lambda x: x.index(1)) #get germination frame where first \"1\" occurs \n",
    "  grouped_data = data_stats.groupby(\"Germination Frame\")\n",
    "\n",
    "  return grouped_data, data_stats"
   ]
  },
  {
   "cell_type": "markdown",
   "metadata": {},
   "source": [
    "### Box Plots"
   ]
  },
  {
   "cell_type": "code",
   "execution_count": 72,
   "metadata": {},
   "outputs": [],
   "source": [
    "def get_max(df, feature: str) -> int:\n",
    "    data_max = []\n",
    "    data = df[feature].apply(ast.literal_eval) \n",
    "    for row in data:\n",
    "        data_max.append(max(row))\n",
    "    return max(data_max)\n",
    "\n",
    "\n",
    "def box_plot_statistics(germ_time, data, column: str, feature: str, max_feature: int, show_plot = 1):\n",
    "    aligned_data = [pd.Series(data) for data in data[column]]\n",
    "    aligned_df = pd.DataFrame(aligned_data)\n",
    "    melted_aligned_df = aligned_df.melt(var_name='Frame', value_name=feature) #long format\n",
    "    \n",
    "    # plotting\n",
    "    plt.figure(figsize=(8, 4))\n",
    "    sns.boxplot(x='Frame', y=feature, data=melted_aligned_df)\n",
    "    plt.axvline(x=germ_time, color='red', linestyle='--', label=f'Germination Frame {germ_time}')\n",
    "    plt.title(f'{feature} Statistics for Spores Germinated at Frame {germ_time}')\n",
    "    plt.xlabel('Frame')\n",
    "    plt.xticks([0, 50, 100, 150, 200, 150, 200, 250])\n",
    "    plt.ylabel(feature)\n",
    "    plt.ylim(0, max_feature)\n",
    "    plt.legend()\n",
    "    plt.savefig(f\"{plots_folder}  {feature} _boxplot_ + {germ_time} .jpg\")\n",
    "    \n",
    "    if show_plot != 1:\n",
    "        plt.close()"
   ]
  },
  {
   "cell_type": "markdown",
   "metadata": {},
   "source": [
    "### Spatial"
   ]
  },
  {
   "cell_type": "code",
   "execution_count": 73,
   "metadata": {},
   "outputs": [],
   "source": [
    "def plot_xy_germinationframe(df, show_plot = 1):  \n",
    "  plt.figure(figsize=(12, 8))\n",
    "  #plot\n",
    "  scatter = plt.scatter(df['X_POSITION'], df['Y_POSITION'], c = df['Germination Frame'], cmap = 'gist_ncar', edgecolor='black', s=100)\n",
    "  plt.colorbar(scatter, label='Germination Frame')\n",
    "  plt.xlabel('X')\n",
    "  plt.ylabel('Y')\n",
    "\n",
    "  plt.gca().invert_yaxis()\n",
    "  plt.title('Spores by Germination Frame')\n",
    "  plt.grid(True)\n",
    "  plt.savefig(f\"{plots_folder}germinationframe_location.jpg\")\n",
    "\n",
    "  if show_plot != 1:\n",
    "    plt.close()\n",
    "  ###VALIDATE THIS overlay on tiff"
   ]
  },
  {
   "cell_type": "markdown",
   "metadata": {},
   "source": [
    "### Signal Summation"
   ]
  },
  {
   "cell_type": "code",
   "execution_count": 74,
   "metadata": {},
   "outputs": [],
   "source": [
    "def total_signal(df, INTENSITY, GERMINATION):\n",
    "  germination_totalintensity = []\n",
    "\n",
    "  df['Germination Frame'] = GERMINATION.apply(lambda x: x.index(1)) #get germination frame where first \"1\" occurs \n",
    "\n",
    "  for i in range(len(df)):\n",
    "    spore_intensities = INTENSITY[i]\n",
    "    spore_germination_frame = df.loc[i, \"Germination Frame\"]\n",
    "    intensities_before_germination = spore_intensities[0: spore_germination_frame]\n",
    "    total_intensity = np.sum(intensities_before_germination)\n",
    "    germination_totalintensity.append(np.array([spore_germination_frame, total_intensity]))\n",
    "\n",
    "  germination_totalintensity_np = np.array(germination_totalintensity)\n",
    "\n",
    "  plt.scatter(germination_totalintensity_np[:, 0], germination_totalintensity_np[:, 1])\n",
    "  plt.xlabel(\"Germination Frame\")\n",
    "  plt.ylabel(\"Sum Intensity\")\n",
    "  plt.close()"
   ]
  },
  {
   "cell_type": "markdown",
   "metadata": {},
   "source": [
    "### Area\n",
    "\n",
    "Compute ellipse major/ellipse minor before germination and compare to frame "
   ]
  },
  {
   "cell_type": "code",
   "execution_count": 75,
   "metadata": {},
   "outputs": [],
   "source": [
    "def majorminor_normalization(df, GERMINATION, ELLIPSE_MINOR, ELLIPSE_MAJOR, show_plots = 1):\n",
    "\n",
    "  '''\n",
    "  return 3 np arrays where each row corresponds to a spore, and the first column corresponds to germination frame index and the last column is some measure of ellipse normalization\n",
    "  '''\n",
    "\n",
    "  germination_avg_normalized = []\n",
    "  germination_initial_normalized = []\n",
    "  germination_last_normalized = []\n",
    "\n",
    "  df['Germination Frame'] = GERMINATION.apply(lambda x: x.index(1)) #get germination frame where first \"1\" occurs \n",
    "\n",
    "  for i in range(len(df)):\n",
    "    spore_ellipse_minor = np.array(ELLIPSE_MINOR[i])\n",
    "    spore_ellipse_major = np.array(ELLIPSE_MAJOR[i])\n",
    "    spore_relative = spore_ellipse_minor/spore_ellipse_major\n",
    "\n",
    "    #germination frame index\n",
    "    spore_germination_frame = df.loc[i, \"Germination Frame\"]\n",
    "\n",
    "    #list of minor/major until germination\n",
    "    relative_before_germination: list = spore_relative[0: spore_germination_frame]\n",
    "\n",
    "    #plot all minor/major and minor/major in nongerminated frames\n",
    "    plt.plot(range(len(spore_relative)), spore_relative, color = \"lightgrey\")\n",
    "    plt.plot(range(len(relative_before_germination)), relative_before_germination, color = \"black\")\n",
    "\n",
    "    # calculate avg, initial(mean first 3), and last measure(mean last 3)\n",
    "    avg_spore_relative_before_germination = np.mean(relative_before_germination)\n",
    "    initial_spore_relative_before_germination = np.mean(relative_before_germination[-3: -1])\n",
    "    last_spore_relative_before_germination = np.mean(relative_before_germination[0: 3])\n",
    "\n",
    "    #plot horizontal values of mean, intial, and last size \n",
    "    plt.plot(range(len(relative_before_germination)), [avg_spore_relative_before_germination]*len(relative_before_germination), label = \"Mean Minor/Major\", linestyle = \"dashdot\", color = \"blue\")\n",
    "    plt.plot(range(len(relative_before_germination)), [initial_spore_relative_before_germination]*len(relative_before_germination), label = \"Initial Minor/Major\", linestyle = \"dashdot\", color = \"green\")\n",
    "    plt.plot(range(len(relative_before_germination)), [last_spore_relative_before_germination]*len(relative_before_germination), label = \"Last Minor/Major\", linestyle = \"dashdot\", color = \"orange\")\n",
    "    plt.legend()\n",
    "\n",
    "\n",
    "    # add to list\n",
    "    germination_avg_normalized.append([spore_germination_frame, avg_spore_relative_before_germination])\n",
    "    germination_initial_normalized.append([spore_germination_frame, initial_spore_relative_before_germination])\n",
    "    germination_last_normalized.append([spore_germination_frame, last_spore_relative_before_germination])\n",
    "\n",
    "    if show_plots == 1:\n",
    "      plt.show()\n",
    "    plt.clf()\n",
    "  germination_avg_normalized_np = np.array(germination_avg_normalized)\n",
    "  germination_initial_normalized_np = np.array(germination_initial_normalized)\n",
    "  germination_last_normalized_np = np.array(germination_last_normalized)\n",
    "\n",
    "  return germination_avg_normalized_np, germination_initial_normalized_np, germination_last_normalized_np\n",
    "\n",
    "\n",
    "    "
   ]
  },
  {
   "cell_type": "markdown",
   "metadata": {},
   "source": [
    "Scatter Plot of Germination_Frame , Minor/Major "
   ]
  },
  {
   "cell_type": "code",
   "execution_count": 76,
   "metadata": {},
   "outputs": [],
   "source": [
    "def scatter_germinationframe_value(germinationframe_value, x_label, y_label, plot_title, color, ylimits, show_plots = 1):\n",
    "  germinationframes = germinationframe_value[:, 0]\n",
    "  values = germinationframe_value[:, 1]\n",
    "\n",
    "  plt.scatter(germinationframes, values, color = color)\n",
    "  plt.xlabel(x_label)\n",
    "  plt.ylabel(y_label)\n",
    "  plt.title(plot_title)\n",
    "  plt.ylim([0, 1])\n",
    "  if show_plots == 1:\n",
    "    plt.show()\n",
    "    plt.clf()\n"
   ]
  },
  {
   "cell_type": "markdown",
   "metadata": {},
   "source": [
    "Correlation between Area before Germination and Germination Frame"
   ]
  },
  {
   "cell_type": "code",
   "execution_count": 77,
   "metadata": {},
   "outputs": [],
   "source": [
    "def germinationframe_area(df, AREA, GERMINATION):\n",
    "  avg_germination_area = []\n",
    "  initial_germination_area = []\n",
    "  last_germination_area = []\n",
    "\n",
    "  df['Germination Frame'] = GERMINATION.apply(lambda x: x.index(1)) #get germination frame where first \"1\" occurs \n",
    "\n",
    "  for i in range(len(df)):\n",
    "    spore_area = AREA[i]\n",
    "    spore_germination_frame = df.loc[i, \"Germination Frame\"]\n",
    "    area_before_germination = spore_area[0: spore_germination_frame]\n",
    "\n",
    "\n",
    "    avg_area = np.mean(area_before_germination)\n",
    "    intial_area = np.mean(area_before_germination[0: 3])\n",
    "    last_area = np.mean(area_before_germination[-3: -1])\n",
    "\n",
    "    avg_germination_area.append(np.array[spore_germination_frame, avg_area])\n",
    "    initial_germination_area.append(np.array[spore_germination_frame, initial_area])\n",
    "    last_germination_area.append(np.array[spore_germination_frame, last_area])\n",
    "\n",
    "  return np.array(avg_germination_area), np.array(initial_germination_area), np.array(last_germination_area)"
   ]
  },
  {
   "cell_type": "markdown",
   "metadata": {},
   "source": [
    "### Main "
   ]
  },
  {
   "cell_type": "code",
   "execution_count": 78,
   "metadata": {},
   "outputs": [],
   "source": [
    "def Main(csv_path, plots_folder):\n",
    "  df = pd.read_csv(csv_path)\n",
    "  print(f\"data has columns {list(df.columns)}...\")\n",
    "\n",
    "  # turning model data into lists\n",
    "  INTENSITY: list[list] = df[\"INTENSITY\"].apply(ast.literal_eval) \n",
    "  AREA: list[list] = df[\"AREA\"].apply(ast.literal_eval)\n",
    "  GERMINATION: list[list] = df[\"GERMINATION\"].apply(ast.literal_eval)\n",
    "  ELLIPSE_MINOR: list[list] = df[\"ELLIPSE MINOR\"].apply(ast.literal_eval)\n",
    "  ELLIPSE_MAJOR: list[list] = df[\"ELLIPSE MAJOR\"].apply(ast.literal_eval)\n",
    "\n",
    "  # germination frequency \n",
    "  germination_frequency(plots_folder, GERMINATION, 0)\n",
    "\n",
    "  # group data by germination frame\n",
    "  groups, data_stats = group_by_germination(df, [\"INTENSITY\", \"AREA\", \"GERMINATION\"])\n",
    "\n",
    "  # used for plot limits \n",
    "  max_intensity = get_max(df, \"INTENSITY\")\n",
    "  max_area = get_max(df, \"AREA\")\n",
    "\n",
    "  # iterate through groups\n",
    "  for name, group in groups: # name is germination frames, and groups is data \n",
    "    box_plot_statistics(name, group, \"INTENSITY\", \"Intensity\", max_intensity, 0)\n",
    "    box_plot_statistics(name, group, \"AREA\", \"Area\", max_intensity, 0)\n",
    "    break \n",
    "\n",
    "  #plot x, y, and germination frame  \n",
    "  plot_xy_germinationframe(data_stats, 0)  \n",
    "\n",
    "  #plot scatter of total signal and germination frame\n",
    "  total_signal(df, INTENSITY, GERMINATION)\n",
    "\n",
    "  #plot measures of minor/major \n",
    "  germination_avg_normalized_np, germination_initial_normalized_np, germination_last_normalized_np = majorminor_normalization(df, GERMINATION, ELLIPSE_MINOR, ELLIPSE_MAJOR, 0)\n",
    "\n",
    "  scatter_germinationframe_value(germination_avg_normalized_np, \"Germination Frame\", \"Average Minor/Major\", \"\", \"blue\", [0,1])\n",
    "  scatter_germinationframe_value(germination_initial_normalized_np, \"Germination Frame\", \"Initial Minor/Major\", \"\", \"green\", [0,1])\n",
    "  scatter_germinationframe_value(germination_last_normalized_np, \"Germination Frame\", \"Last Major/Minor\", \"\", \"orange\", [0,1])\n",
    "\n",
    "  avg_area_before_germ_np, initial_area_before_germ_np, last_area_before_germ_np = germinationframe_area(df, AREA, GERMINATION)\n",
    "  print(avg_area_before_germ_np)\n",
    "  scatter_germinationframe_value(avg_area_before_germ_np, \"Germination Frame\", \"Average Area before Germination\", \"\", \"blue\", [0, max_area])\n"
   ]
  },
  {
   "cell_type": "code",
   "execution_count": 79,
   "metadata": {},
   "outputs": [
    {
     "name": "stdout",
     "output_type": "stream",
     "text": [
      "data has columns ['Unnamed: 0', 'INTENSITY', 'AREA', 'GERMINANT EXPOSURE', 'GERMINATION', 'ELLIPSE MINOR', 'ELLIPSE MAJOR', 'X_POSITION', 'Y_POSITION']...\n"
     ]
    },
    {
     "data": {
      "image/png": "[encoded data removed]",
      "text/plain": [
       "<Figure size 640x480 with 1 Axes>"
      ]
     },
     "metadata": {},
     "output_type": "display_data"
    },
    {
     "data": {
      "image/png": "[encoded data removed]",
      "text/plain": [
       "<Figure size 640x480 with 1 Axes>"
      ]
     },
     "metadata": {},
     "output_type": "display_data"
    },
    {
     "data": {
      "image/png": "[encoded data removed]",
      "text/plain": [
       "<Figure size 640x480 with 1 Axes>"
      ]
     },
     "metadata": {},
     "output_type": "display_data"
    },
    {
     "ename": "TypeError",
     "evalue": "'builtin_function_or_method' object is not subscriptable",
     "output_type": "error",
     "traceback": [
      "\u001b[0;31m---------------------------------------------------------------------------\u001b[0m",
      "\u001b[0;31mTypeError\u001b[0m                                 Traceback (most recent call last)",
      "Cell \u001b[0;32mIn[79], line 5\u001b[0m\n\u001b[1;32m      2\u001b[0m csv_path \u001b[38;5;241m=\u001b[39m \u001b[38;5;124m\"\u001b[39m\u001b[38;5;124m/Users/alexandranava/Desktop/Spores/M4581_s1/Analysis/V3/Model_Data.csv\u001b[39m\u001b[38;5;124m\"\u001b[39m\n\u001b[1;32m      3\u001b[0m plots_folder \u001b[38;5;241m=\u001b[39m \u001b[38;5;124m\"\u001b[39m\u001b[38;5;124m/Users/alexandranava/Desktop/Spores/M4581_s1/Analysis/V3/Plots/\u001b[39m\u001b[38;5;124m\"\u001b[39m\n\u001b[0;32m----> 5\u001b[0m \u001b[43mMain\u001b[49m\u001b[43m(\u001b[49m\u001b[43mcsv_path\u001b[49m\u001b[43m,\u001b[49m\u001b[43m \u001b[49m\u001b[43mplots_folder\u001b[49m\u001b[43m)\u001b[49m\n",
      "Cell \u001b[0;32mIn[78], line 41\u001b[0m, in \u001b[0;36mMain\u001b[0;34m(csv_path, plots_folder)\u001b[0m\n\u001b[1;32m     38\u001b[0m scatter_germinationframe_value(germination_initial_normalized_np, \u001b[38;5;124m\"\u001b[39m\u001b[38;5;124mGermination Frame\u001b[39m\u001b[38;5;124m\"\u001b[39m, \u001b[38;5;124m\"\u001b[39m\u001b[38;5;124mInitial Minor/Major\u001b[39m\u001b[38;5;124m\"\u001b[39m, \u001b[38;5;124m\"\u001b[39m\u001b[38;5;124m\"\u001b[39m, \u001b[38;5;124m\"\u001b[39m\u001b[38;5;124mgreen\u001b[39m\u001b[38;5;124m\"\u001b[39m, [\u001b[38;5;241m0\u001b[39m,\u001b[38;5;241m1\u001b[39m])\n\u001b[1;32m     39\u001b[0m scatter_germinationframe_value(germination_last_normalized_np, \u001b[38;5;124m\"\u001b[39m\u001b[38;5;124mGermination Frame\u001b[39m\u001b[38;5;124m\"\u001b[39m, \u001b[38;5;124m\"\u001b[39m\u001b[38;5;124mLast Major/Minor\u001b[39m\u001b[38;5;124m\"\u001b[39m, \u001b[38;5;124m\"\u001b[39m\u001b[38;5;124m\"\u001b[39m, \u001b[38;5;124m\"\u001b[39m\u001b[38;5;124morange\u001b[39m\u001b[38;5;124m\"\u001b[39m, [\u001b[38;5;241m0\u001b[39m,\u001b[38;5;241m1\u001b[39m])\n\u001b[0;32m---> 41\u001b[0m avg_area_before_germ_np, initial_area_before_germ_np, last_area_before_germ_np \u001b[38;5;241m=\u001b[39m \u001b[43mgerminationframe_area\u001b[49m\u001b[43m(\u001b[49m\u001b[43mdf\u001b[49m\u001b[43m,\u001b[49m\u001b[43m \u001b[49m\u001b[43mAREA\u001b[49m\u001b[43m,\u001b[49m\u001b[43m \u001b[49m\u001b[43mGERMINATION\u001b[49m\u001b[43m)\u001b[49m\n\u001b[1;32m     42\u001b[0m \u001b[38;5;28mprint\u001b[39m(avg_area_before_germ_np)\n\u001b[1;32m     43\u001b[0m scatter_germinationframe_value(avg_area_before_germ_np, \u001b[38;5;124m\"\u001b[39m\u001b[38;5;124mGermination Frame\u001b[39m\u001b[38;5;124m\"\u001b[39m, \u001b[38;5;124m\"\u001b[39m\u001b[38;5;124mAverage Area before Germination\u001b[39m\u001b[38;5;124m\"\u001b[39m, \u001b[38;5;124m\"\u001b[39m\u001b[38;5;124m\"\u001b[39m, \u001b[38;5;124m\"\u001b[39m\u001b[38;5;124mblue\u001b[39m\u001b[38;5;124m\"\u001b[39m, [\u001b[38;5;241m0\u001b[39m, max_area])\n",
      "Cell \u001b[0;32mIn[77], line 18\u001b[0m, in \u001b[0;36mgerminationframe_area\u001b[0;34m(df, AREA, GERMINATION)\u001b[0m\n\u001b[1;32m     15\u001b[0m intial_area \u001b[38;5;241m=\u001b[39m np\u001b[38;5;241m.\u001b[39mmean(area_before_germination[\u001b[38;5;241m0\u001b[39m: \u001b[38;5;241m3\u001b[39m])\n\u001b[1;32m     16\u001b[0m last_area \u001b[38;5;241m=\u001b[39m np\u001b[38;5;241m.\u001b[39mmean(area_before_germination[\u001b[38;5;241m-\u001b[39m\u001b[38;5;241m3\u001b[39m: \u001b[38;5;241m-\u001b[39m\u001b[38;5;241m1\u001b[39m])\n\u001b[0;32m---> 18\u001b[0m avg_germination_area\u001b[38;5;241m.\u001b[39mappend(\u001b[43mnp\u001b[49m\u001b[38;5;241;43m.\u001b[39;49m\u001b[43marray\u001b[49m\u001b[43m[\u001b[49m\u001b[43mspore_germination_frame\u001b[49m\u001b[43m,\u001b[49m\u001b[43m \u001b[49m\u001b[43mavg_area\u001b[49m\u001b[43m]\u001b[49m)\n\u001b[1;32m     19\u001b[0m initial_germination_area\u001b[38;5;241m.\u001b[39mappend(np\u001b[38;5;241m.\u001b[39marray[spore_germination_frame, initial_area])\n\u001b[1;32m     20\u001b[0m last_germination_area\u001b[38;5;241m.\u001b[39mappend(np\u001b[38;5;241m.\u001b[39marray[spore_germination_frame, last_area])\n",
      "\u001b[0;31mTypeError\u001b[0m: 'builtin_function_or_method' object is not subscriptable"
     ]
    },
    {
     "data": {
      "text/plain": [
       "<Figure size 640x480 with 0 Axes>"
      ]
     },
     "metadata": {},
     "output_type": "display_data"
    }
   ],
   "source": [
    "if __name__ == \"__main__\":\n",
    "  csv_path = \"/Users/alexandranava/Desktop/Spores/M4581_s1/Analysis/V3/Model_Data.csv\"\n",
    "  plots_folder = \"/Users/alexandranava/Desktop/Spores/M4581_s1/Analysis/V3/Plots/\"\n",
    "\n",
    "  Main(csv_path, plots_folder)"
   ]
  }
 ],
 "metadata": {
  "kernelspec": {
   "display_name": "Python 3",
   "language": "python",
   "name": "python3"
  },
  "language_info": {
   "codemirror_mode": {
    "name": "ipython",
    "version": 3
   },
   "file_extension": ".py",
   "mimetype": "text/x-python",
   "name": "python",
   "nbconvert_exporter": "python",
   "pygments_lexer": "ipython3",
   "version": "3.9.6"
  }
 },
 "nbformat": 4,
 "nbformat_minor": 2
}
