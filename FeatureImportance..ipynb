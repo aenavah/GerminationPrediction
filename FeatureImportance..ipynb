{
 "cells": [
  {
   "cell_type": "markdown",
   "metadata": {},
   "source": [
    "Imports"
   ]
  },
  {
   "cell_type": "code",
   "execution_count": null,
   "metadata": {},
   "outputs": [],
   "source": [
    "import numpy as np\n",
    "import matplotlib.pyplot as plt\n",
    "import pandas as pd\n",
    "from collections import Counter\n",
    "import ast \n",
    "import seaborn as sns"
   ]
  },
  {
   "cell_type": "code",
   "execution_count": null,
   "metadata": {},
   "outputs": [],
   "source": [
    "csv_path = \"/Users/alexandranava/Desktop/Spores/M4581_s1/Analysis/V3/Model_Data.csv\"\n",
    "plots_folder = \"/Users/alexandranava/Desktop/Spores/M4581_s1/Analysis/V3/Plots/\"\n",
    "df = pd.read_csv(csv_path)\n",
    "\n",
    "print(df.columns)\n",
    "\n",
    "INTENSITY = df[\"INTENSITY\"]\n",
    "AREA = df[\"AREA\"]\n",
    "GERMINATION = df[\"GERMINATION\"]"
   ]
  },
  {
   "cell_type": "markdown",
   "metadata": {},
   "source": [
    "## Histogram for Germination Frame Frequency"
   ]
  },
  {
   "cell_type": "code",
   "execution_count": null,
   "metadata": {},
   "outputs": [],
   "source": [
    "def get_germination_index() -> list:\n",
    "  ''' \n",
    "  gets germination frame index for each spore \n",
    "  returns a list of frame numbers\n",
    "  '''\n",
    "  #list where germination occurs for each spore\n",
    "  germination_frames_list = []\n",
    "\n",
    "  for spore_index in range(len(GERMINATION)):\n",
    "    germination_frames = GERMINATION[spore_index].replace(\"[\", \"\")\n",
    "    germination_frames = germination_frames.split(\",\")\n",
    "\n",
    "    frame_index = 0\n",
    "    for frame in germination_frames: #index starts at 0 \n",
    "\n",
    "      if int(frame) == 1:\n",
    "        germination_frames_list.append(frame_index)\n",
    "        break \n",
    "      frame_index += 1\n",
    "  return germination_frames_list"
   ]
  },
  {
   "cell_type": "code",
   "execution_count": null,
   "metadata": {},
   "outputs": [],
   "source": [
    "#print(df[\"GERMINATION\"].apply(lambda x: x.index(1)))\n",
    "germination_frames_list = df[\"GERMINATION\"].apply(ast.literal_eval).apply(lambda x: x.index(1)) #get_germination_index()\n",
    "\n",
    "#print times frame germination occurs\n",
    "frame_counts = Counter(germination_frames_list)\n",
    "sorted_frame_counts = sorted(frame_counts.items())\n",
    "for frame_number, count in sorted_frame_counts:\n",
    "    print(f\"Frame: {frame_number}, Frequency: {count}\")\n",
    "    \n",
    "#histogram plot \n",
    "plt.hist(germination_frames_list, bins=289, color='pink', edgecolor='black')\n",
    "plt.title(\"Germination Times\")\n",
    "plt.xlabel(\"Frame Number\")\n",
    "plt.ylabel(\"Frequency\")\n",
    "plt.grid()\n",
    "plt.savefig(plots_folder + \"germination_frequency.jpg\")"
   ]
  },
  {
   "cell_type": "markdown",
   "metadata": {},
   "source": [
    "## Descriptive Statistics"
   ]
  },
  {
   "cell_type": "code",
   "execution_count": null,
   "metadata": {},
   "outputs": [],
   "source": [
    "'''\n",
    "Spores are grouped by germination frame then statistics are gathered at each timepoint (mix, median, max, q1, and q3)\n",
    "'''\n",
    "data_stats = df\n",
    "\n",
    "# Convert feature and germination data from strings to lists\n",
    "data_stats['INTENSITY'] = data_stats['INTENSITY'].apply(ast.literal_eval)\n",
    "data_stats['GERMINATION'] = data_stats['GERMINATION'].apply(ast.literal_eval)\n",
    "data_stats['AREA'] = data_stats['AREA'].apply(ast.literal_eval)\n",
    "\n",
    "\n",
    "data_stats['Germination Frame'] = data_stats['GERMINATION'].apply(lambda x: x.index(1)) #get germination frame where first \"1\" occurs \n",
    "\n",
    "grouped_data = data_stats.groupby('Germination Frame')\n",
    "\n",
    "def get_max(feature: str):\n",
    "    data_max = []\n",
    "    data = data_stats[feature]\n",
    "    for row in data:\n",
    "        data_max.append(max(row))\n",
    "    return max(data_max)\n",
    "\n",
    "def box_plot_statistics(column: str, feature: str):\n",
    "    ymax = get_max(column)\n",
    "    unique_germ_times = sorted(data_stats['Germination Frame'].unique())\n",
    "    \n",
    "    for germ_time in unique_germ_times:\n",
    "        data_group = grouped_data.get_group(germ_time)\n",
    "        aligned_data = [pd.Series(data) for data in data_group[column]]\n",
    "        aligned_df = pd.DataFrame(aligned_data)\n",
    "        melted_aligned_df = aligned_df.melt(var_name='Frame', value_name=feature) #long format\n",
    "        \n",
    "        # plotting\n",
    "        plt.figure(figsize=(8, 4))\n",
    "        sns.boxplot(x='Frame', y=feature, data=melted_aligned_df)\n",
    "        plt.axvline(x=germ_time, color='red', linestyle='--', label=f'Germination Frame {germ_time}')\n",
    "        plt.title(f'{feature} Statistics for Spores Germinated at Frame {germ_time}')\n",
    "        plt.xlabel('Frame')\n",
    "        plt.xticks([0, 50, 100, 150, 200, 150, 200, 250])\n",
    "        plt.ylabel(feature)\n",
    "        plt.ylim(0, ymax)\n",
    "        plt.legend()\n",
    "        plt.savefig(f\"{plots_folder}  {feature} _boxplot_ + {germ_time} .jpg\")\n",
    "\n",
    "# call plotting for features\n",
    "box_plot_statistics(\"INTENSITY\", \"Intensity\")\n",
    "box_plot_statistics(\"AREA\", \"Area\")"
   ]
  },
  {
   "cell_type": "code",
   "execution_count": null,
   "metadata": {},
   "outputs": [],
   "source": [
    "plt.figure(figsize=(12, 8))\n",
    "#plot\n",
    "scatter = plt.scatter(data_stats['X_POSITION'], data_stats['Y_POSITION'], c = data_stats['Germination Frame'], cmap = 'gist_ncar', edgecolor='black', s=100)\n",
    "plt.colorbar(scatter, label='Germination Frame')\n",
    "plt.xlabel('X')\n",
    "plt.ylabel('Y')\n",
    "\n",
    "plt.gca().invert_yaxis()\n",
    "plt.title('Spores by Germination Frame')\n",
    "plt.grid(True)\n",
    "plt.savefig(f\"{plots_folder}germinationframe_location.jpg\")\n",
    "\n",
    "###VALIDATE THIS overlay on tiff"
   ]
  },
  {
   "cell_type": "markdown",
   "metadata": {},
   "source": [
    "### Polynomial Fitting"
   ]
  },
  {
   "cell_type": "code",
   "execution_count": null,
   "metadata": {},
   "outputs": [],
   "source": [
    "def fit_polynomial(feature):\n",
    "  ts = np.arange(len(feature))\n",
    "  np.polyfit(ts, feature, 2)"
   ]
  },
  {
   "cell_type": "code",
   "execution_count": null,
   "metadata": {},
   "outputs": [],
   "source": [
    "for spore_index in range(len(df)):\n",
    "    spore_intensities = df[\"INTENSITY\"][spore_index]\n",
    "    fit_polynomial(spore_intensities)\n",
    "    break "
   ]
  },
  {
   "cell_type": "markdown",
   "metadata": {},
   "source": [
    "### Derivatives"
   ]
  },
  {
   "cell_type": "code",
   "execution_count": null,
   "metadata": {},
   "outputs": [],
   "source": []
  },
  {
   "cell_type": "code",
   "execution_count": null,
   "metadata": {},
   "outputs": [],
   "source": []
  }
 ],
 "metadata": {
  "kernelspec": {
   "display_name": "Python 3",
   "language": "python",
   "name": "python3"
  },
  "language_info": {
   "codemirror_mode": {
    "name": "ipython",
    "version": 3
   },
   "file_extension": ".py",
   "mimetype": "text/x-python",
   "name": "python",
   "nbconvert_exporter": "python",
   "pygments_lexer": "ipython3",
   "version": "3.9.6"
  }
 },
 "nbformat": 4,
 "nbformat_minor": 2
}
