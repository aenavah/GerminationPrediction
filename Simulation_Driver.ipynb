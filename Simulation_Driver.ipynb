{
 "cells": [
  {
   "cell_type": "code",
   "execution_count": null,
   "metadata": {},
   "outputs": [],
   "source": [
    "#libraries\n",
    "import numpy as np \n",
    "import matplotlib.pyplot as plt\n",
    "import seaborn as sns\n",
    "import pandas as pd\n",
    "import Preliminary_LSTM as LSTM"
   ]
  },
  {
   "cell_type": "code",
   "execution_count": 15,
   "metadata": {},
   "outputs": [],
   "source": [
    "#Parameters--\n",
    "model_file = \"/Users/alexandranava/Desktop/Spores/GerminationPrediction/unmutated_initial_0_intensityscaled.h5\"\n",
    "df_train = pd.read_csv(\"/Users/alexandranava/Desktop/Spores/M4576_s2/M4576_s2_Model_Data_V2.csv\") \n",
    "\n",
    "\n",
    "#original ellipse minor and ellipse major\n",
    "#df_test = pd.read_csv(f\"/Users/alexandranava/Desktop/Spores/GerminationPrediction/Model_Analysis/Simulation_Data/simulation_v.csv\") \n",
    "\n",
    "#ellipse minor +1, ellipse major +1\n",
    "#df_test = pd.read_csv(f\"/Users/alexandranava/Desktop/Spores/GerminationPrediction/Model_Analysis/Simulation_Data/simulation_v1.csv\") \n",
    "\n",
    "# ellipse minor + 1, ellipse major + 2\n",
    "df_test = pd.read_csv(f\"/Users/alexandranava/Desktop/Spores/GerminationPrediction/Model_Analysis/Simulation_Data/simulation_v2.csv\") \n",
    "\n",
    "# ellipse minor + 1.5, ellipse major + 1.5\n",
    "df_test = pd.read_csv(f\"/Users/alexandranava/Desktop/Spores/GerminationPrediction/Model_Analysis/Simulation_Data/simulation_v3.csv\") \n",
    "\n",
    "input_cols = ['INTENSITY','AREA','GERMINANT_EXPOSURE','ELLIPSE_MINOR', \"PERIMETER\", 'GERMINATION']\n",
    "experiment_type = \"simulation0\"\n",
    "lookback = 3"
   ]
  },
  {
   "cell_type": "code",
   "execution_count": null,
   "metadata": {},
   "outputs": [],
   "source": [
    "LSTM.Main(experiment_type, lookback, input_cols, df_train, df_test, model_file)"
   ]
  }
 ],
 "metadata": {
  "kernelspec": {
   "display_name": "Python 3",
   "language": "python",
   "name": "python3"
  },
  "language_info": {
   "codemirror_mode": {
    "name": "ipython",
    "version": 3
   },
   "file_extension": ".py",
   "mimetype": "text/x-python",
   "name": "python",
   "nbconvert_exporter": "python",
   "pygments_lexer": "ipython3",
   "version": "3.9.6"
  }
 },
 "nbformat": 4,
 "nbformat_minor": 2
}
