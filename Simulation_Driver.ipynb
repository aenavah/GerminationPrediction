{
 "cells": [
  {
   "cell_type": "code",
   "execution_count": 13,
   "metadata": {},
   "outputs": [],
   "source": [
    "#libraries\n",
    "import numpy as np \n",
    "import matplotlib.pyplot as plt\n",
    "import seaborn as sns\n",
    "import pandas as pd"
   ]
  },
  {
   "cell_type": "code",
   "execution_count": 14,
   "metadata": {},
   "outputs": [],
   "source": [
    "import import_ipynb\n",
    "import Preliminary_LSTM as LSTM"
   ]
  },
  {
   "cell_type": "code",
   "execution_count": 15,
   "metadata": {},
   "outputs": [],
   "source": [
    "#Parameters--\n",
    "model_file = \"/Users/alexandranava/Desktop/Spores/GerminationPrediction/unmutated_initial_0_intensityscaled.h5\"\n",
    "#model_file = None\n",
    "df_test = pd.read_csv(f\"/Users/alexandranava/Desktop/Spores/GerminationPrediction/Model_Analysis/Simulation_Data/simulation_v1.csv\") # 107\n",
    "\n",
    "df_train = pd.read_csv(\"/Users/alexandranava/Desktop/Spores/M4576_s2/M4576_s2_Model_Data_V2.csv\") # 135\n",
    "input_cols = ['INTENSITY','AREA','GERMINANT_EXPOSURE','ELLIPSE_MINOR', \"PERIMETER\", 'GERMINATION']\n",
    "experiment_type = \"simulation0\"\n",
    "lookback = 3"
   ]
  },
  {
   "cell_type": "code",
   "execution_count": 16,
   "metadata": {},
   "outputs": [
    {
     "name": "stdout",
     "output_type": "stream",
     "text": [
      "training on spores (1, 64)...\n",
      "validating on spores (65, 76)...\n",
      "testing on spores ((1, 53))...\n"
     ]
    }
   ],
   "source": [
    "LSTM.Main(experiment_type, lookback, input_cols, df_train, df_test, model_file)\n"
   ]
  }
 ],
 "metadata": {
  "kernelspec": {
   "display_name": "Python 3",
   "language": "python",
   "name": "python3"
  },
  "language_info": {
   "codemirror_mode": {
    "name": "ipython",
    "version": 3
   },
   "file_extension": ".py",
   "mimetype": "text/x-python",
   "name": "python",
   "nbconvert_exporter": "python",
   "pygments_lexer": "ipython3",
   "version": "3.9.6"
  }
 },
 "nbformat": 4,
 "nbformat_minor": 2
}
